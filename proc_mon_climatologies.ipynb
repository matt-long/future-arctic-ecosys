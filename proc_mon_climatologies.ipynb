{
 "cells": [
  {
   "cell_type": "code",
   "execution_count": 6,
   "metadata": {},
   "outputs": [
    {
     "name": "stderr",
     "output_type": "stream",
     "text": [
      "DEBUG:matplotlib.pyplot:Loaded backend module://ipykernel.pylab.backend_inline version unknown.\n"
     ]
    }
   ],
   "source": [
    "%matplotlib inline\n",
    "import os\n",
    "import importlib\n",
    "import yaml\n",
    "\n",
    "import xarray as xr\n",
    "import numpy as np\n",
    "\n",
    "import intake\n",
    "import intake_cesm\n",
    "import xcollection as xc"
   ]
  },
  {
   "cell_type": "code",
   "execution_count": 7,
   "metadata": {},
   "outputs": [
    {
     "name": "stdout",
     "output_type": "stream",
     "text": [
      "Active collection: cesm1_le\n",
      "<class 'pandas.core.frame.DataFrame'>\n",
      "Int64Index: 262092 entries, 0 to 262091\n",
      "Data columns (total 18 columns):\n",
      "resource            262092 non-null object\n",
      "resource_type       262092 non-null object\n",
      "direct_access       262092 non-null bool\n",
      "experiment          262092 non-null object\n",
      "case                262092 non-null object\n",
      "component           262092 non-null object\n",
      "stream              262092 non-null object\n",
      "variable            262092 non-null object\n",
      "date_range          262092 non-null object\n",
      "ensemble            262092 non-null int64\n",
      "files               262092 non-null object\n",
      "files_basename      262092 non-null object\n",
      "files_dirname       262092 non-null object\n",
      "ctrl_branch_year    0 non-null float64\n",
      "year_offset         34112 non-null float64\n",
      "sequence_order      262092 non-null int64\n",
      "has_ocean_bgc       262092 non-null bool\n",
      "grid                52764 non-null object\n",
      "dtypes: bool(2), float64(2), int64(2), object(12)\n",
      "memory usage: 34.5+ MB\n"
     ]
    }
   ],
   "source": [
    "col = intake.open_cesm_metadatastore('cesm1_le')\n",
    "col.df.info()"
   ]
  },
  {
   "cell_type": "code",
   "execution_count": 8,
   "metadata": {},
   "outputs": [
    {
     "data": {
      "text/html": [
       "<div>\n",
       "<style scoped>\n",
       "    .dataframe tbody tr th:only-of-type {\n",
       "        vertical-align: middle;\n",
       "    }\n",
       "\n",
       "    .dataframe tbody tr th {\n",
       "        vertical-align: top;\n",
       "    }\n",
       "\n",
       "    .dataframe thead th {\n",
       "        text-align: right;\n",
       "    }\n",
       "</style>\n",
       "<table border=\"1\" class=\"dataframe\">\n",
       "  <thead>\n",
       "    <tr style=\"text-align: right;\">\n",
       "      <th></th>\n",
       "      <th>resource</th>\n",
       "      <th>resource_type</th>\n",
       "      <th>direct_access</th>\n",
       "      <th>experiment</th>\n",
       "      <th>case</th>\n",
       "      <th>component</th>\n",
       "      <th>stream</th>\n",
       "      <th>variable</th>\n",
       "      <th>date_range</th>\n",
       "      <th>ensemble</th>\n",
       "      <th>files</th>\n",
       "      <th>files_basename</th>\n",
       "      <th>files_dirname</th>\n",
       "      <th>ctrl_branch_year</th>\n",
       "      <th>year_offset</th>\n",
       "      <th>sequence_order</th>\n",
       "      <th>has_ocean_bgc</th>\n",
       "      <th>grid</th>\n",
       "    </tr>\n",
       "  </thead>\n",
       "  <tbody>\n",
       "    <tr>\n",
       "      <th>225049</th>\n",
       "      <td>GLADE:posix:/glade/collections/cdg/data/cesmLE...</td>\n",
       "      <td>posix</td>\n",
       "      <td>True</td>\n",
       "      <td>20C</td>\n",
       "      <td>b.e11.B20TRC5CNBDRD.f09_g16.002</td>\n",
       "      <td>ocn</td>\n",
       "      <td>pop.h</td>\n",
       "      <td>TEMP</td>\n",
       "      <td>192001-200512</td>\n",
       "      <td>2</td>\n",
       "      <td>/glade/collections/cdg/data/cesmLE/CESM-CAM5-B...</td>\n",
       "      <td>b.e11.B20TRC5CNBDRD.f09_g16.002.pop.h.TEMP.192...</td>\n",
       "      <td>/glade/collections/cdg/data/cesmLE/CESM-CAM5-B...</td>\n",
       "      <td>NaN</td>\n",
       "      <td>NaN</td>\n",
       "      <td>0</td>\n",
       "      <td>True</td>\n",
       "      <td>POP_gx1v6</td>\n",
       "    </tr>\n",
       "    <tr>\n",
       "      <th>140428</th>\n",
       "      <td>GLADE:posix:/glade/collections/cdg/data/cesmLE...</td>\n",
       "      <td>posix</td>\n",
       "      <td>True</td>\n",
       "      <td>RCP85</td>\n",
       "      <td>b.e11.BRCP85C5CNBDRD.f09_g16.002</td>\n",
       "      <td>ocn</td>\n",
       "      <td>pop.h</td>\n",
       "      <td>TEMP</td>\n",
       "      <td>200601-208012</td>\n",
       "      <td>2</td>\n",
       "      <td>/glade/collections/cdg/data/cesmLE/CESM-CAM5-B...</td>\n",
       "      <td>b.e11.BRCP85C5CNBDRD.f09_g16.002.pop.h.TEMP.20...</td>\n",
       "      <td>/glade/collections/cdg/data/cesmLE/CESM-CAM5-B...</td>\n",
       "      <td>NaN</td>\n",
       "      <td>NaN</td>\n",
       "      <td>1</td>\n",
       "      <td>True</td>\n",
       "      <td>POP_gx1v6</td>\n",
       "    </tr>\n",
       "    <tr>\n",
       "      <th>140429</th>\n",
       "      <td>GLADE:posix:/glade/collections/cdg/data/cesmLE...</td>\n",
       "      <td>posix</td>\n",
       "      <td>True</td>\n",
       "      <td>RCP85</td>\n",
       "      <td>b.e11.BRCP85C5CNBDRD.f09_g16.002</td>\n",
       "      <td>ocn</td>\n",
       "      <td>pop.h</td>\n",
       "      <td>TEMP</td>\n",
       "      <td>208101-210012</td>\n",
       "      <td>2</td>\n",
       "      <td>/glade/collections/cdg/data/cesmLE/CESM-CAM5-B...</td>\n",
       "      <td>b.e11.BRCP85C5CNBDRD.f09_g16.002.pop.h.TEMP.20...</td>\n",
       "      <td>/glade/collections/cdg/data/cesmLE/CESM-CAM5-B...</td>\n",
       "      <td>NaN</td>\n",
       "      <td>NaN</td>\n",
       "      <td>1</td>\n",
       "      <td>True</td>\n",
       "      <td>POP_gx1v6</td>\n",
       "    </tr>\n",
       "  </tbody>\n",
       "</table>\n",
       "</div>"
      ],
      "text/plain": [
       "                                                 resource resource_type  \\\n",
       "225049  GLADE:posix:/glade/collections/cdg/data/cesmLE...         posix   \n",
       "140428  GLADE:posix:/glade/collections/cdg/data/cesmLE...         posix   \n",
       "140429  GLADE:posix:/glade/collections/cdg/data/cesmLE...         posix   \n",
       "\n",
       "        direct_access experiment                              case component  \\\n",
       "225049           True        20C   b.e11.B20TRC5CNBDRD.f09_g16.002       ocn   \n",
       "140428           True      RCP85  b.e11.BRCP85C5CNBDRD.f09_g16.002       ocn   \n",
       "140429           True      RCP85  b.e11.BRCP85C5CNBDRD.f09_g16.002       ocn   \n",
       "\n",
       "       stream variable     date_range  ensemble  \\\n",
       "225049  pop.h     TEMP  192001-200512         2   \n",
       "140428  pop.h     TEMP  200601-208012         2   \n",
       "140429  pop.h     TEMP  208101-210012         2   \n",
       "\n",
       "                                                    files  \\\n",
       "225049  /glade/collections/cdg/data/cesmLE/CESM-CAM5-B...   \n",
       "140428  /glade/collections/cdg/data/cesmLE/CESM-CAM5-B...   \n",
       "140429  /glade/collections/cdg/data/cesmLE/CESM-CAM5-B...   \n",
       "\n",
       "                                           files_basename  \\\n",
       "225049  b.e11.B20TRC5CNBDRD.f09_g16.002.pop.h.TEMP.192...   \n",
       "140428  b.e11.BRCP85C5CNBDRD.f09_g16.002.pop.h.TEMP.20...   \n",
       "140429  b.e11.BRCP85C5CNBDRD.f09_g16.002.pop.h.TEMP.20...   \n",
       "\n",
       "                                            files_dirname  ctrl_branch_year  \\\n",
       "225049  /glade/collections/cdg/data/cesmLE/CESM-CAM5-B...               NaN   \n",
       "140428  /glade/collections/cdg/data/cesmLE/CESM-CAM5-B...               NaN   \n",
       "140429  /glade/collections/cdg/data/cesmLE/CESM-CAM5-B...               NaN   \n",
       "\n",
       "        year_offset  sequence_order  has_ocean_bgc       grid  \n",
       "225049          NaN               0           True  POP_gx1v6  \n",
       "140428          NaN               1           True  POP_gx1v6  \n",
       "140429          NaN               1           True  POP_gx1v6  "
      ]
     },
     "execution_count": 8,
     "metadata": {},
     "output_type": "execute_result"
    }
   ],
   "source": [
    "query = {'experiment': ['20C', 'RCP85'],\n",
    "         'ensemble': 2, \n",
    "         'variable': 'TEMP',\n",
    "         'direct_access': True}\n",
    "\n",
    "cat = col.search(**query)\n",
    "cat.results"
   ]
  },
  {
   "cell_type": "code",
   "execution_count": 9,
   "metadata": {},
   "outputs": [
    {
     "name": "stdout",
     "output_type": "stream",
     "text": [
      "annmean:\n",
      "  description: compute annual means\n",
      "  file_format: nc\n",
      "  operators:\n",
      "  - !operator\n",
      "    applied_method: time:mean\n",
      "    function: compute_ann_mean\n",
      "    kwargs: {}\n",
      "    module: esmlab.climatology\n",
      "monanom:\n",
      "  description: compute monthly anomalies\n",
      "  file_format: nc\n",
      "  operators:\n",
      "  - !operator\n",
      "    applied_method: time:anom_mon\n",
      "    function: compute_mon_anomaly\n",
      "    kwargs: {}\n",
      "    module: esmlab.climatology\n",
      "monclim:\n",
      "  description: compute monthly climatology\n",
      "  file_format: nc\n",
      "  name: monclim\n",
      "  operators:\n",
      "  - !operator\n",
      "    applied_method: time:clim_mon\n",
      "    function: compute_mon_climatology\n",
      "    kwargs: {}\n",
      "    module: esmlab.climatology\n",
      "monclim_1990s:\n",
      "  description: compute monthly climatology over 1990-1999\n",
      "  file_format: nc\n",
      "  name: monclim_1990s\n",
      "  operators:\n",
      "  - !operator\n",
      "    applied_method: time:clim_mon\n",
      "    function: compute_mon_climatology\n",
      "    kwargs: {}\n",
      "    module: esmlab.climatology\n",
      "  sel_kwargs:\n",
      "    time: !!python/object/apply:builtins.slice ['1990-01-01', '1999-12-31', null]\n",
      "\n"
     ]
    }
   ],
   "source": [
    "recipes = 'analysis_recipes.yml'\n",
    "with open('analysis_recipes.yml') as fid:\n",
    "    recipes = yaml.load(fid)\n",
    "print(yaml.dump(recipes))"
   ]
  },
  {
   "cell_type": "code",
   "execution_count": 10,
   "metadata": {},
   "outputs": [
    {
     "name": "stdout",
     "output_type": "stream",
     "text": [
      "Active collection: cesm1_le\n"
     ]
    },
    {
     "name": "stderr",
     "output_type": "stream",
     "text": [
      "INFO:root:applying sel_kwargs: {'time': slice('1990-01-01', '1999-12-31', None)}\n",
      "INFO:root:applying operator: <function compute_mon_climatology at 0x2b7c00e910d0>\n",
      "INFO:root:writing /glade/scratch/mclong/xcollection-data/cesm1_le-a3c1d024-c8b8-437b-834c-541fa29f3462-monclim_1990s.002.nc\n",
      "/glade/work/mclong/miniconda3/envs/arctic_project/lib/python3.6/site-packages/dask/array/numpy_compat.py:28: RuntimeWarning: invalid value encountered in true_divide\n",
      "  x = np.divide(x1, x2, out)\n"
     ]
    },
    {
     "data": {
      "text/plain": [
       "<xcollection.core.analyzed_collection at 0x2b7c040a32b0>"
      ]
     },
     "execution_count": 10,
     "metadata": {},
     "output_type": "execute_result"
    }
   ],
   "source": [
    "dc = xc.analyzed_collection(collection='cesm1_le',\n",
    "                            analysis_recipe=recipes['monclim_1990s'],\n",
    "                            overwrite_existing=True,\n",
    "                            file_format=\"nc\",\n",
    "                            **query)\n",
    "dc"
   ]
  },
  {
   "cell_type": "code",
   "execution_count": 11,
   "metadata": {},
   "outputs": [],
   "source": [
    "%load_ext watermark"
   ]
  },
  {
   "cell_type": "code",
   "execution_count": 12,
   "metadata": {},
   "outputs": [
    {
     "name": "stdout",
     "output_type": "stream",
     "text": [
      "intake      0.4.1\n",
      "xcollection v0.10+8.g59df6fa\n",
      "numpy       1.16.1\n",
      "xarray      0.11.3\n",
      "yaml        3.13\n",
      "intake_cesm v2019.2.0+45.ge2de240\n",
      "last updated: 2019-02-06 \n",
      "\n",
      "CPython 3.6.7\n",
      "IPython 7.1.1\n",
      "\n",
      "compiler   : GCC 7.3.0\n",
      "system     : Linux\n",
      "release    : 3.10.0-693.21.1.el7.x86_64\n",
      "machine    : x86_64\n",
      "processor  : x86_64\n",
      "CPU cores  : 72\n",
      "interpreter: 64bit\n",
      "host name  : casper05\n",
      "Git hash   : 04a19cd50e1443dc253547f44c41f3a666dde712\n"
     ]
    }
   ],
   "source": [
    "%watermark --iversion -g -h -m -v -u -d"
   ]
  },
  {
   "cell_type": "code",
   "execution_count": null,
   "metadata": {},
   "outputs": [],
   "source": []
  }
 ],
 "metadata": {
  "kernelspec": {
   "display_name": "Python 3",
   "language": "python",
   "name": "python3"
  },
  "language_info": {
   "codemirror_mode": {
    "name": "ipython",
    "version": 3
   },
   "file_extension": ".py",
   "mimetype": "text/x-python",
   "name": "python",
   "nbconvert_exporter": "python",
   "pygments_lexer": "ipython3",
   "version": "3.6.7"
  }
 },
 "nbformat": 4,
 "nbformat_minor": 2
}

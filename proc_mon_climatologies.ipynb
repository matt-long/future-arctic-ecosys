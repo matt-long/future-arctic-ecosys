{
 "cells": [
  {
   "cell_type": "code",
   "execution_count": 1,
   "metadata": {},
   "outputs": [
    {
     "name": "stderr",
     "output_type": "stream",
     "text": [
      "/glade/work/mclong/miniconda3/envs/dev/lib/python3.7/site-packages/tqdm/autonotebook/__init__.py:14: TqdmExperimentalWarning: Using `tqdm.autonotebook.tqdm` in notebook mode. Use `tqdm.tqdm` instead to force console mode (e.g. in jupyter console)\n",
      "  \" (e.g. in jupyter console)\", TqdmExperimentalWarning)\n",
      "/gpfs/u/home/mclong/codes/xcollection/xcollection/config.py:87: YAMLLoadWarning: calling yaml.load() without Loader=... is deprecated, as the default Loader is unsafe. Please read https://msg.pyyaml.org/load for full details.\n",
      "  dot_file_settings = yaml.load(f)\n",
      "/glade/work/mclong/miniconda3/envs/dev/lib/python3.7/site-packages/dask_jobqueue/config.py:12: YAMLLoadWarning: calling yaml.load() without Loader=... is deprecated, as the default Loader is unsafe. Please read https://msg.pyyaml.org/load for full details.\n",
      "  defaults = yaml.load(f)\n"
     ]
    }
   ],
   "source": [
    "%matplotlib inline\n",
    "import os\n",
    "import importlib\n",
    "import yaml\n",
    "import copy\n",
    "\n",
    "import xarray as xr\n",
    "import numpy as np\n",
    "\n",
    "import intake\n",
    "import intake_esm\n",
    "import xcollection as xc\n",
    "\n",
    "import dask\n",
    "import dask.distributed\n",
    "import ncar_jobqueue"
   ]
  },
  {
   "cell_type": "code",
   "execution_count": 2,
   "metadata": {},
   "outputs": [
    {
     "name": "stderr",
     "output_type": "stream",
     "text": [
      "/gpfs/u/home/mclong/codes/intake-esm/intake_esm/core.py:63: DtypeWarning: Columns (18) have mixed types. Specify dtype option on import or set low_memory=False.\n",
      "  self.build_collection(overwrite_existing)\n"
     ]
    },
    {
     "name": "stdout",
     "output_type": "stream",
     "text": [
      "<class 'pandas.core.frame.DataFrame'>\n",
      "Int64Index: 265484 entries, 0 to 265483\n",
      "Data columns (total 18 columns):\n",
      "resource            265484 non-null object\n",
      "resource_type       265484 non-null object\n",
      "direct_access       265484 non-null bool\n",
      "experiment          265484 non-null object\n",
      "case                265484 non-null object\n",
      "component           265484 non-null object\n",
      "stream              265484 non-null object\n",
      "variable            265484 non-null object\n",
      "date_range          265484 non-null object\n",
      "ensemble            265484 non-null int64\n",
      "file_fullpath       265484 non-null object\n",
      "file_basename       265484 non-null object\n",
      "file_dirname        265484 non-null object\n",
      "ctrl_branch_year    0 non-null float64\n",
      "year_offset         34129 non-null float64\n",
      "sequence_order      265484 non-null int64\n",
      "has_ocean_bgc       265484 non-null bool\n",
      "grid                54238 non-null object\n",
      "dtypes: bool(2), float64(2), int64(2), object(12)\n",
      "memory usage: 34.9+ MB\n"
     ]
    }
   ],
   "source": [
    "col = intake.open_esm_metadatastore(collection_input_definition='cesm1-le-collection.yml',\n",
    "                                    overwrite_existing=False)\n",
    "col.df.info()"
   ]
  },
  {
   "cell_type": "code",
   "execution_count": 3,
   "metadata": {},
   "outputs": [
    {
     "name": "stderr",
     "output_type": "stream",
     "text": [
      "/gpfs/u/home/mclong/codes/intake-esm/intake_esm/common.py:152: DtypeWarning: Columns (18) have mixed types. Specify dtype option on import or set low_memory=False.\n",
      "  self.query_results = self.get_results()\n"
     ]
    },
    {
     "name": "stdout",
     "output_type": "stream",
     "text": [
      "[1, 2, 9, 10, 11, 12, 13, 14, 15, 16, 17, 18, 19, 20, 21, 22, 23, 24, 26, 27, 28, 29, 30, 31, 32, 34, 35, 101, 102, 103, 104, 105]\n"
     ]
    }
   ],
   "source": [
    "experiments = ['20C', 'RCP85']\n",
    "ensembles = col.search(experiment=experiments, has_ocean_bgc=True).query_results.ensemble.unique().tolist()\n",
    "print(ensembles)"
   ]
  },
  {
   "cell_type": "code",
   "execution_count": 4,
   "metadata": {},
   "outputs": [],
   "source": [
    "query_base = dict(experiment=experiments, ensemble=ensembles, stream='pop.h')      \n",
    "resource_constraints = dict(direct_access=True)"
   ]
  },
  {
   "cell_type": "code",
   "execution_count": 5,
   "metadata": {},
   "outputs": [
    {
     "name": "stderr",
     "output_type": "stream",
     "text": [
      "/glade/work/mclong/miniconda3/envs/dev/lib/python3.7/site-packages/ipykernel_launcher.py:2: YAMLLoadWarning: calling yaml.load() without Loader=... is deprecated, as the default Loader is unsafe. Please read https://msg.pyyaml.org/load for full details.\n",
      "  \n"
     ]
    },
    {
     "name": "stdout",
     "output_type": "stream",
     "text": [
      "['Fe', 'NO3', 'PO4', 'SiO3']\n"
     ]
    }
   ],
   "source": [
    "with open('variables.yml', 'r') as fid:\n",
    "    variables = yaml.load(fid)\n",
    "    \n",
    "variable_list = []\n",
    "for k, v in variables.items():\n",
    "    variable_list.extend(v)\n",
    "\n",
    "query = {**dict(variable=variable_list), **query_base, **resource_constraints}\n",
    "\n",
    "cat = col.search(**query)\n",
    "variable_list = cat.query_results.variable.unique().tolist()\n",
    "\n",
    "variable_list = [v for v in variable_list if v in ['NO3', 'PO4', 'SiO3', 'Fe']]\n",
    "print(variable_list)"
   ]
  },
  {
   "cell_type": "code",
   "execution_count": 6,
   "metadata": {},
   "outputs": [],
   "source": [
    "base_recipe = {'name': 'monclim',\n",
    "                 'description': 'compute monthly climatology',\n",
    "                 'operators': [xc.operator(applied_method=\"time:mon_clim\",\n",
    "                                           module='esmlab',\n",
    "                                           function='climatology', \n",
    "                                           kwargs={'freq': 'mon'})]}"
   ]
  },
  {
   "cell_type": "code",
   "execution_count": 7,
   "metadata": {},
   "outputs": [
    {
     "name": "stdout",
     "output_type": "stream",
     "text": [
      "- slice: !!python/object/apply:builtins.slice\n",
      "  - '1940'\n",
      "  - '1949'\n",
      "  - null\n",
      "  varlist:\n",
      "  - Fe\n",
      "  - NO3\n",
      "  - PO4\n",
      "  - SiO3\n",
      "- slice: !!python/object/apply:builtins.slice\n",
      "  - '1990'\n",
      "  - '1999'\n",
      "  - null\n",
      "  varlist:\n",
      "  - Fe\n",
      "  - NO3\n",
      "  - PO4\n",
      "  - SiO3\n",
      "- slice: !!python/object/apply:builtins.slice\n",
      "  - '2040'\n",
      "  - '2049'\n",
      "  - null\n",
      "  varlist:\n",
      "  - Fe\n",
      "  - NO3\n",
      "  - PO4\n",
      "  - SiO3\n",
      "- slice: !!python/object/apply:builtins.slice\n",
      "  - '2090'\n",
      "  - '2099'\n",
      "  - null\n",
      "  varlist:\n",
      "  - Fe\n",
      "  - NO3\n",
      "  - PO4\n",
      "  - SiO3\n",
      "- slice: !!python/object/apply:builtins.slice\n",
      "  - '1995'\n",
      "  - '2005'\n",
      "  - null\n",
      "  varlist:\n",
      "  - TEMP\n",
      "  - SALT\n",
      "- slice: !!python/object/apply:builtins.slice\n",
      "  - '1995'\n",
      "  - '2010'\n",
      "  - null\n",
      "  varlist:\n",
      "  - photoC_diat\n",
      "  - photoC_sp\n",
      "  - diatChl\n",
      "  - spChl\n",
      "\n"
     ]
    },
    {
     "name": "stderr",
     "output_type": "stream",
     "text": [
      "/glade/work/mclong/miniconda3/envs/dev/lib/python3.7/site-packages/ipykernel_launcher.py:25: YAMLLoadWarning: calling yaml.load() without Loader=... is deprecated, as the default Loader is unsafe. Please read https://msg.pyyaml.org/load for full details.\n"
     ]
    }
   ],
   "source": [
    "variable_control = yaml.load(f'''\n",
    "- slice: !!python/object/apply:slice\n",
    "         args: ['1940', '1949']\n",
    "  varlist: {variable_list}\n",
    "\n",
    "- slice: !!python/object/apply:slice\n",
    "         args: ['1990', '1999']\n",
    "  varlist: {variable_list}\n",
    "\n",
    "- slice: !!python/object/apply:slice\n",
    "         args: ['2040', '2049']\n",
    "  varlist: {variable_list}  \n",
    "  \n",
    "- slice: !!python/object/apply:slice\n",
    "         args: ['2090', '2099']\n",
    "  varlist: {variable_list}  \n",
    "\n",
    "- slice: !!python/object/apply:slice\n",
    "         args: ['1995', '2005']\n",
    "  varlist: ['TEMP', 'SALT']\n",
    "  \n",
    "- slice: !!python/object/apply:slice\n",
    "         args: ['1995', '2010']\n",
    "  varlist: ['photoC_diat', 'photoC_sp', 'diatChl', 'spChl']\n",
    "''')\n",
    "print(yaml.dump(variable_control))"
   ]
  },
  {
   "cell_type": "code",
   "execution_count": 8,
   "metadata": {},
   "outputs": [
    {
     "name": "stderr",
     "output_type": "stream",
     "text": [
      "/glade/work/mclong/miniconda3/envs/dev/lib/python3.7/site-packages/distributed/deploy/local.py:138: UserWarning: diagnostics_port has been deprecated. Please use `dashboard_address=` instead\n",
      "  \"diagnostics_port has been deprecated. \"\n"
     ]
    }
   ],
   "source": [
    "cluster = ncar_jobqueue.NCARCluster(walltime='12:00:00')\n",
    "client = dask.distributed.Client(cluster)\n",
    "n_workers = 9 * 6\n",
    "cluster.scale(n_workers)"
   ]
  },
  {
   "cell_type": "code",
   "execution_count": null,
   "metadata": {},
   "outputs": [
    {
     "name": "stdout",
     "output_type": "stream",
     "text": [
      "working on Fe\n"
     ]
    },
    {
     "name": "stderr",
     "output_type": "stream",
     "text": [
      "/gpfs/u/home/mclong/codes/intake-esm/intake_esm/common.py:152: DtypeWarning: Columns (18) have mixed types. Specify dtype option on import or set low_memory=False.\n",
      "  self.query_results = self.get_results()\n",
      "/gpfs/u/home/mclong/codes/intake-esm/intake_esm/common.py:152: DtypeWarning: Columns (18) have mixed types. Specify dtype option on import or set low_memory=False.\n",
      "  self.query_results = self.get_results()\n",
      "/gpfs/u/home/mclong/codes/intake-esm/intake_esm/cesm.py:280: DtypeWarning: Columns (18) have mixed types. Specify dtype option on import or set low_memory=False.\n",
      "  file_fullpath_column_name='file_fullpath',\n"
     ]
    },
    {
     "data": {
      "application/vnd.jupyter.widget-view+json": {
       "model_id": "52ce0cf2b3d64c3ca610992977a753e8",
       "version_major": 2,
       "version_minor": 0
      },
      "text/plain": [
       "HBox(children=(IntProgress(value=0, description='dataset', max=1, style=ProgressStyle(description_width='initi…"
      ]
     },
     "metadata": {},
     "output_type": "display_data"
    },
    {
     "data": {
      "application/vnd.jupyter.widget-view+json": {
       "model_id": "0c13d9297c444349a7d4852ef6f471b1",
       "version_major": 2,
       "version_minor": 0
      },
      "text/plain": [
       "HBox(children=(IntProgress(value=0, description='member', max=1, style=ProgressStyle(description_width='initia…"
      ]
     },
     "metadata": {},
     "output_type": "display_data"
    },
    {
     "name": "stdout",
     "output_type": "stream",
     "text": [
      "\n"
     ]
    },
    {
     "name": "stderr",
     "output_type": "stream",
     "text": [
      "/gpfs/u/home/mclong/codes/intake-esm/intake_esm/common.py:152: DtypeWarning: Columns (18) have mixed types. Specify dtype option on import or set low_memory=False.\n",
      "  self.query_results = self.get_results()\n",
      "/gpfs/u/home/mclong/codes/intake-esm/intake_esm/cesm.py:280: DtypeWarning: Columns (18) have mixed types. Specify dtype option on import or set low_memory=False.\n",
      "  file_fullpath_column_name='file_fullpath',\n"
     ]
    },
    {
     "data": {
      "application/vnd.jupyter.widget-view+json": {
       "model_id": "8d3d444a275d4c49beaf0496337014cd",
       "version_major": 2,
       "version_minor": 0
      },
      "text/plain": [
       "HBox(children=(IntProgress(value=0, description='dataset', max=1, style=ProgressStyle(description_width='initi…"
      ]
     },
     "metadata": {},
     "output_type": "display_data"
    },
    {
     "data": {
      "application/vnd.jupyter.widget-view+json": {
       "model_id": "31c99ef486ed470d82ea9b5c56b3bd12",
       "version_major": 2,
       "version_minor": 0
      },
      "text/plain": [
       "HBox(children=(IntProgress(value=0, description='member', max=1, style=ProgressStyle(description_width='initia…"
      ]
     },
     "metadata": {},
     "output_type": "display_data"
    },
    {
     "name": "stdout",
     "output_type": "stream",
     "text": [
      "\n"
     ]
    },
    {
     "data": {
      "application/vnd.jupyter.widget-view+json": {
       "model_id": "7cfe09c07a8b41159a8cf41d5ea56dc9",
       "version_major": 2,
       "version_minor": 0
      },
      "text/plain": [
       "HBox(children=(IntProgress(value=0, description='dataset', max=1, style=ProgressStyle(description_width='initi…"
      ]
     },
     "metadata": {},
     "output_type": "display_data"
    }
   ],
   "source": [
    "for d in variable_control:\n",
    "    time_slice = d.get('slice')\n",
    "    varlist = d.get('varlist')\n",
    "    slice_str = f'{time_slice.start}-{time_slice.stop}'\n",
    "    for v in varlist:\n",
    "        \n",
    "        print(f'working on {v}')\n",
    "        query = {**dict(variable=v), **query_base, **resource_constraints}\n",
    "\n",
    "        namer = lambda q: '.'.join(\n",
    "            ['cesm1_le', \n",
    "             '+'.join(q['experiment']), \n",
    "             q['variable'], \n",
    "             base_recipe['name'], \n",
    "             slice_str])\n",
    "\n",
    "        recipe = copy.deepcopy(base_recipe)\n",
    "        recipe['operators'].insert(0, xc.operator(module='util', \n",
    "                                                  function='sel_time',\n",
    "                                                  kwargs={'indexer_val': time_slice}))\n",
    "        \n",
    "        dc = xc.analyzed_collection(collection_obj=col,\n",
    "                                    analysis_recipe=recipe,\n",
    "                                    analysis_name=namer(query),\n",
    "                                    overwrite_existing=False,\n",
    "                                    file_format=\"nc\",\n",
    "                                    **query)\n"
   ]
  },
  {
   "cell_type": "code",
   "execution_count": null,
   "metadata": {},
   "outputs": [],
   "source": [
    "cluster.close()"
   ]
  },
  {
   "cell_type": "code",
   "execution_count": null,
   "metadata": {},
   "outputs": [],
   "source": [
    "%load_ext watermark"
   ]
  },
  {
   "cell_type": "code",
   "execution_count": null,
   "metadata": {},
   "outputs": [],
   "source": [
    "%watermark --iversion -g -h -m -v -u -d"
   ]
  },
  {
   "cell_type": "code",
   "execution_count": null,
   "metadata": {},
   "outputs": [],
   "source": []
  }
 ],
 "metadata": {
  "kernelspec": {
   "display_name": "Python [conda env:dev]",
   "language": "python",
   "name": "conda-env-dev-py"
  },
  "language_info": {
   "codemirror_mode": {
    "name": "ipython",
    "version": 3
   },
   "file_extension": ".py",
   "mimetype": "text/x-python",
   "name": "python",
   "nbconvert_exporter": "python",
   "pygments_lexer": "ipython3",
   "version": "3.7.3"
  }
 },
 "nbformat": 4,
 "nbformat_minor": 2
}

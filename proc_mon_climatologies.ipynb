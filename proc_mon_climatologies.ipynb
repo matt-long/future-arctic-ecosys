{
 "cells": [
  {
   "cell_type": "code",
   "execution_count": 3,
   "metadata": {},
   "outputs": [],
   "source": [
    "%matplotlib inline\n",
    "import os\n",
    "import importlib\n",
    "import yaml\n",
    "import copy\n",
    "\n",
    "import xarray as xr\n",
    "import numpy as np\n",
    "\n",
    "import intake\n",
    "import intake_esm\n",
    "import xcollection as xc\n",
    "\n",
    "import dask\n",
    "import dask.distributed\n",
    "import ncar_jobqueue"
   ]
  },
  {
   "cell_type": "code",
   "execution_count": 4,
   "metadata": {},
   "outputs": [
    {
     "name": "stdout",
     "output_type": "stream",
     "text": [
      "<class 'pandas.core.frame.DataFrame'>\n",
      "Int64Index: 116276 entries, 0 to 116275\n",
      "Data columns (total 18 columns):\n",
      "resource            116276 non-null object\n",
      "resource_type       116276 non-null object\n",
      "direct_access       116276 non-null bool\n",
      "experiment          116276 non-null object\n",
      "case                116276 non-null object\n",
      "component           116276 non-null object\n",
      "stream              116276 non-null object\n",
      "variable            116276 non-null object\n",
      "date_range          116276 non-null object\n",
      "ensemble            116276 non-null int64\n",
      "files               116276 non-null object\n",
      "files_basename      116276 non-null object\n",
      "files_dirname       116276 non-null object\n",
      "ctrl_branch_year    0 non-null float64\n",
      "year_offset         15145 non-null float64\n",
      "sequence_order      116276 non-null int64\n",
      "has_ocean_bgc       116276 non-null bool\n",
      "grid                13013 non-null object\n",
      "dtypes: bool(2), float64(2), int64(2), object(12)\n",
      "memory usage: 15.3+ MB\n"
     ]
    }
   ],
   "source": [
    "col = intake.open_esm_metadatastore(collection_input_file='cesm1-le-collection.yml',\n",
    "                                    overwrite_existing=False)\n",
    "col.df.info()"
   ]
  },
  {
   "cell_type": "code",
   "execution_count": 5,
   "metadata": {},
   "outputs": [
    {
     "name": "stdout",
     "output_type": "stream",
     "text": [
      "[1, 2, 9, 10, 11, 12, 13, 14, 15, 16, 17, 18, 19, 20, 21, 22, 23, 24, 26, 27, 28, 29, 30, 31, 32, 34, 35, 101, 102, 103, 104, 105]\n"
     ]
    }
   ],
   "source": [
    "experiments = ['20C', 'RCP85']\n",
    "ensembles = col.search(experiment=experiments, has_ocean_bgc=True).results.ensemble.unique().tolist()\n",
    "print(ensembles)"
   ]
  },
  {
   "cell_type": "code",
   "execution_count": 6,
   "metadata": {},
   "outputs": [],
   "source": [
    "query_base = dict(experiment=experiments, ensemble=ensembles, stream='pop.h')      \n",
    "resource_constraints = dict(direct_access=True)"
   ]
  },
  {
   "cell_type": "code",
   "execution_count": 7,
   "metadata": {},
   "outputs": [
    {
     "name": "stdout",
     "output_type": "stream",
     "text": [
      "['ECOSYS_IFRAC', 'HMXL', 'Jint_100m_DIC', 'PD', 'SALT', 'SST', 'TBLT', 'TEMP', 'XMXL', 'diatChl', 'photoC_diat', 'photoC_sp', 'spChl']\n"
     ]
    }
   ],
   "source": [
    "with open('variables.yml', 'r') as fid:\n",
    "    variables = yaml.load(fid)\n",
    "    \n",
    "variable_list = []\n",
    "for k, v in variables.items():\n",
    "    variable_list.extend(v)\n",
    "\n",
    "query = {**dict(variable=variable_list), **query_base, **resource_constraints}\n",
    "\n",
    "cat = col.search(**query)\n",
    "variable_list = cat.results.variable.unique().tolist()\n",
    "print(variable_list)"
   ]
  },
  {
   "cell_type": "code",
   "execution_count": 34,
   "metadata": {},
   "outputs": [],
   "source": [
    "base_recipe = {'name': 'monclim',\n",
    "                 'description': 'compute monthly climatology',\n",
    "                 'operators': [xc.operator(applied_method=\"time:mon_clim\",\n",
    "                                           module='esmlab.climatology',\n",
    "                                           function='compute_mon_climatology')]}"
   ]
  },
  {
   "cell_type": "code",
   "execution_count": 35,
   "metadata": {},
   "outputs": [
    {
     "name": "stdout",
     "output_type": "stream",
     "text": [
      "- slice: !!python/object/apply:builtins.slice ['1940', '1949', null]\n",
      "  varlist: [ECOSYS_IFRAC, HMXL, Jint_100m_DIC, PD, SALT, SST, TBLT, TEMP, XMXL, diatChl,\n",
      "    photoC_diat, photoC_sp, spChl]\n",
      "- slice: !!python/object/apply:builtins.slice ['1990', '1999', null]\n",
      "  varlist: [ECOSYS_IFRAC, HMXL, Jint_100m_DIC, PD, SALT, SST, TBLT, TEMP, XMXL, diatChl,\n",
      "    photoC_diat, photoC_sp, spChl]\n",
      "- slice: !!python/object/apply:builtins.slice ['2040', '2049', null]\n",
      "  varlist: [ECOSYS_IFRAC, HMXL, Jint_100m_DIC, PD, SALT, SST, TBLT, TEMP, XMXL, diatChl,\n",
      "    photoC_diat, photoC_sp, spChl]\n",
      "- slice: !!python/object/apply:builtins.slice ['2090', '2099', null]\n",
      "  varlist: [ECOSYS_IFRAC, HMXL, Jint_100m_DIC, PD, SALT, SST, TBLT, TEMP, XMXL, diatChl,\n",
      "    photoC_diat, photoC_sp, spChl]\n",
      "- slice: !!python/object/apply:builtins.slice ['1995', '2005', null]\n",
      "  varlist: [TEMP, SALT]\n",
      "- slice: !!python/object/apply:builtins.slice ['1995', '2010', null]\n",
      "  varlist: [photoC_diat, photoC_sp, diatChl, spChl]\n",
      "\n"
     ]
    }
   ],
   "source": [
    "variable_control = yaml.load(f'''\n",
    "- slice: !!python/object/apply:slice\n",
    "         args: ['1940', '1949']\n",
    "  varlist: {variable_list}\n",
    "\n",
    "- slice: !!python/object/apply:slice\n",
    "         args: ['1990', '1999']\n",
    "  varlist: {variable_list}\n",
    "\n",
    "- slice: !!python/object/apply:slice\n",
    "         args: ['2040', '2049']\n",
    "  varlist: {variable_list}  \n",
    "  \n",
    "- slice: !!python/object/apply:slice\n",
    "         args: ['2090', '2099']\n",
    "  varlist: {variable_list}  \n",
    "\n",
    "- slice: !!python/object/apply:slice\n",
    "         args: ['1995', '2005']\n",
    "  varlist: ['TEMP', 'SALT']\n",
    "  \n",
    "- slice: !!python/object/apply:slice\n",
    "         args: ['1995', '2010']\n",
    "  varlist: ['photoC_diat', 'photoC_sp', 'diatChl', 'spChl']\n",
    "''')\n",
    "print(yaml.dump(variable_control))"
   ]
  },
  {
   "cell_type": "code",
   "execution_count": 30,
   "metadata": {},
   "outputs": [],
   "source": [
    "cluster = ncar_jobqueue.NCARCluster()\n",
    "client = dask.distributed.Client(cluster)\n",
    "n_workers = 9 * 6\n",
    "cluster.scale(n_workers)"
   ]
  },
  {
   "cell_type": "code",
   "execution_count": null,
   "metadata": {},
   "outputs": [
    {
     "name": "stdout",
     "output_type": "stream",
     "text": [
      "working on ECOSYS_IFRAC\n",
      "working on HMXL\n",
      "working on Jint_100m_DIC\n",
      "working on PD\n",
      "working on SALT\n",
      "working on SST\n",
      "working on TBLT\n",
      "working on TEMP\n"
     ]
    },
    {
     "name": "stderr",
     "output_type": "stream",
     "text": [
      "INFO:xcollection.core:applying operator: <function sel_time at 0x2b76609e9488>\n",
      "INFO:xcollection.core:applying operator: <function compute_mon_climatology at 0x2b76609e9510>\n",
      "INFO:xcollection.core:writing /glade/scratch/mclong/future-arctic-data/cesm1_le.20C+RCP85.TEMP.monclim.1940-1949.028.nc\n",
      "INFO:xcollection.core:applying operator: <function sel_time at 0x2b76609e9488>\n",
      "INFO:xcollection.core:applying operator: <function compute_mon_climatology at 0x2b76609e9510>\n",
      "INFO:xcollection.core:writing /glade/scratch/mclong/future-arctic-data/cesm1_le.20C+RCP85.TEMP.monclim.1940-1949.029.nc\n",
      "INFO:xcollection.core:applying operator: <function sel_time at 0x2b76609e9488>\n",
      "INFO:xcollection.core:applying operator: <function compute_mon_climatology at 0x2b76609e9510>\n",
      "INFO:xcollection.core:writing /glade/scratch/mclong/future-arctic-data/cesm1_le.20C+RCP85.TEMP.monclim.1940-1949.030.nc\n",
      "INFO:xcollection.core:applying operator: <function sel_time at 0x2b76609e9488>\n",
      "INFO:xcollection.core:applying operator: <function compute_mon_climatology at 0x2b76609e9510>\n",
      "INFO:xcollection.core:writing /glade/scratch/mclong/future-arctic-data/cesm1_le.20C+RCP85.TEMP.monclim.1940-1949.031.nc\n",
      "INFO:xcollection.core:applying operator: <function sel_time at 0x2b76609e9488>\n",
      "INFO:xcollection.core:applying operator: <function compute_mon_climatology at 0x2b76609e9510>\n",
      "INFO:xcollection.core:writing /glade/scratch/mclong/future-arctic-data/cesm1_le.20C+RCP85.TEMP.monclim.1940-1949.032.nc\n",
      "INFO:xcollection.core:applying operator: <function sel_time at 0x2b76609e9488>\n",
      "INFO:xcollection.core:applying operator: <function compute_mon_climatology at 0x2b76609e9510>\n",
      "INFO:xcollection.core:writing /glade/scratch/mclong/future-arctic-data/cesm1_le.20C+RCP85.TEMP.monclim.1940-1949.034.nc\n",
      "INFO:xcollection.core:applying operator: <function sel_time at 0x2b76609e9488>\n",
      "INFO:xcollection.core:applying operator: <function compute_mon_climatology at 0x2b76609e9510>\n",
      "INFO:xcollection.core:writing /glade/scratch/mclong/future-arctic-data/cesm1_le.20C+RCP85.TEMP.monclim.1940-1949.035.nc\n",
      "INFO:xcollection.core:applying operator: <function sel_time at 0x2b76609e9488>\n",
      "INFO:xcollection.core:applying operator: <function compute_mon_climatology at 0x2b76609e9510>\n",
      "INFO:xcollection.core:writing /glade/scratch/mclong/future-arctic-data/cesm1_le.20C+RCP85.TEMP.monclim.1940-1949.101.nc\n",
      "INFO:xcollection.core:applying operator: <function sel_time at 0x2b76609e9488>\n",
      "INFO:xcollection.core:applying operator: <function compute_mon_climatology at 0x2b76609e9510>\n",
      "INFO:xcollection.core:writing /glade/scratch/mclong/future-arctic-data/cesm1_le.20C+RCP85.TEMP.monclim.1940-1949.102.nc\n",
      "INFO:xcollection.core:applying operator: <function sel_time at 0x2b76609e9488>\n",
      "INFO:xcollection.core:applying operator: <function compute_mon_climatology at 0x2b76609e9510>\n",
      "INFO:xcollection.core:writing /glade/scratch/mclong/future-arctic-data/cesm1_le.20C+RCP85.TEMP.monclim.1940-1949.103.nc\n",
      "INFO:xcollection.core:applying operator: <function sel_time at 0x2b76609e9488>\n",
      "INFO:xcollection.core:applying operator: <function compute_mon_climatology at 0x2b76609e9510>\n",
      "INFO:xcollection.core:writing /glade/scratch/mclong/future-arctic-data/cesm1_le.20C+RCP85.TEMP.monclim.1940-1949.104.nc\n",
      "INFO:xcollection.core:applying operator: <function sel_time at 0x2b76609e9488>\n",
      "INFO:xcollection.core:applying operator: <function compute_mon_climatology at 0x2b76609e9510>\n",
      "INFO:xcollection.core:writing /glade/scratch/mclong/future-arctic-data/cesm1_le.20C+RCP85.TEMP.monclim.1940-1949.105.nc\n"
     ]
    },
    {
     "name": "stdout",
     "output_type": "stream",
     "text": [
      "working on XMXL\n"
     ]
    },
    {
     "name": "stderr",
     "output_type": "stream",
     "text": [
      "INFO:xcollection.core:applying operator: <function sel_time at 0x2b76609e9488>\n",
      "INFO:xcollection.core:applying operator: <function compute_mon_climatology at 0x2b76609e9510>\n",
      "INFO:xcollection.core:writing /glade/scratch/mclong/future-arctic-data/cesm1_le.20C+RCP85.XMXL.monclim.1940-1949.001.nc\n",
      "INFO:xcollection.core:applying operator: <function sel_time at 0x2b76609e9488>\n",
      "INFO:xcollection.core:applying operator: <function compute_mon_climatology at 0x2b76609e9510>\n",
      "INFO:xcollection.core:writing /glade/scratch/mclong/future-arctic-data/cesm1_le.20C+RCP85.XMXL.monclim.1940-1949.002.nc\n",
      "INFO:xcollection.core:applying operator: <function sel_time at 0x2b76609e9488>\n",
      "INFO:xcollection.core:applying operator: <function compute_mon_climatology at 0x2b76609e9510>\n",
      "INFO:xcollection.core:writing /glade/scratch/mclong/future-arctic-data/cesm1_le.20C+RCP85.XMXL.monclim.1940-1949.009.nc\n",
      "INFO:xcollection.core:applying operator: <function sel_time at 0x2b76609e9488>\n",
      "INFO:xcollection.core:applying operator: <function compute_mon_climatology at 0x2b76609e9510>\n",
      "INFO:xcollection.core:writing /glade/scratch/mclong/future-arctic-data/cesm1_le.20C+RCP85.XMXL.monclim.1940-1949.010.nc\n",
      "INFO:xcollection.core:applying operator: <function sel_time at 0x2b76609e9488>\n",
      "INFO:xcollection.core:applying operator: <function compute_mon_climatology at 0x2b76609e9510>\n",
      "INFO:xcollection.core:writing /glade/scratch/mclong/future-arctic-data/cesm1_le.20C+RCP85.XMXL.monclim.1940-1949.011.nc\n",
      "INFO:xcollection.core:applying operator: <function sel_time at 0x2b76609e9488>\n",
      "INFO:xcollection.core:applying operator: <function compute_mon_climatology at 0x2b76609e9510>\n",
      "INFO:xcollection.core:writing /glade/scratch/mclong/future-arctic-data/cesm1_le.20C+RCP85.XMXL.monclim.1940-1949.012.nc\n",
      "INFO:xcollection.core:applying operator: <function sel_time at 0x2b76609e9488>\n",
      "INFO:xcollection.core:applying operator: <function compute_mon_climatology at 0x2b76609e9510>\n",
      "INFO:xcollection.core:writing /glade/scratch/mclong/future-arctic-data/cesm1_le.20C+RCP85.XMXL.monclim.1940-1949.013.nc\n",
      "INFO:xcollection.core:applying operator: <function sel_time at 0x2b76609e9488>\n",
      "INFO:xcollection.core:applying operator: <function compute_mon_climatology at 0x2b76609e9510>\n",
      "INFO:xcollection.core:writing /glade/scratch/mclong/future-arctic-data/cesm1_le.20C+RCP85.XMXL.monclim.1940-1949.014.nc\n",
      "INFO:xcollection.core:applying operator: <function sel_time at 0x2b76609e9488>\n",
      "INFO:xcollection.core:applying operator: <function compute_mon_climatology at 0x2b76609e9510>\n",
      "INFO:xcollection.core:writing /glade/scratch/mclong/future-arctic-data/cesm1_le.20C+RCP85.XMXL.monclim.1940-1949.015.nc\n"
     ]
    }
   ],
   "source": [
    "for d in variable_control:\n",
    "    time_slice = d.get('slice')\n",
    "    varlist = d.get('varlist')\n",
    "    slice_str = f'{time_slice.start}-{time_slice.stop}'\n",
    "    for v in varlist:\n",
    "        \n",
    "        print(f'working on {v}')\n",
    "        query = {**dict(variable=v), **query_base, **resource_constraints}\n",
    "\n",
    "        namer = lambda q: '.'.join(\n",
    "            ['cesm1_le', \n",
    "             '+'.join(q['experiment']), \n",
    "             q['variable'], \n",
    "             base_recipe['name'], \n",
    "             slice_str])\n",
    "\n",
    "        recipe = copy.deepcopy(base_recipe)\n",
    "        recipe['operators'].insert(0, xc.operator(module='esmlab.utils.time', \n",
    "                                                  function='sel_time',\n",
    "                                                  kwargs={'indexer_val': time_slice}))\n",
    "        \n",
    "        dc = xc.analyzed_collection(collection_obj=col,\n",
    "                                    analysis_recipe=recipe,\n",
    "                                    analysis_name=namer(query),\n",
    "                                    overwrite_existing=False,\n",
    "                                    file_format=\"nc\",\n",
    "                                    **query)\n"
   ]
  },
  {
   "cell_type": "code",
   "execution_count": null,
   "metadata": {},
   "outputs": [],
   "source": [
    "%load_ext watermark"
   ]
  },
  {
   "cell_type": "code",
   "execution_count": null,
   "metadata": {},
   "outputs": [],
   "source": [
    "%watermark --iversion -g -h -m -v -u -d"
   ]
  },
  {
   "cell_type": "code",
   "execution_count": null,
   "metadata": {},
   "outputs": [],
   "source": []
  }
 ],
 "metadata": {
  "kernelspec": {
   "display_name": "Python [conda env:dev]",
   "language": "python",
   "name": "conda-env-dev-py"
  },
  "language_info": {
   "codemirror_mode": {
    "name": "ipython",
    "version": 3
   },
   "file_extension": ".py",
   "mimetype": "text/x-python",
   "name": "python",
   "nbconvert_exporter": "python",
   "pygments_lexer": "ipython3",
   "version": "3.7.1"
  }
 },
 "nbformat": 4,
 "nbformat_minor": 2
}

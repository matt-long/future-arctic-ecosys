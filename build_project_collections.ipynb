{
 "cells": [
  {
   "cell_type": "markdown",
   "metadata": {},
   "source": [
    "# build a database of CESM-LE files"
   ]
  },
  {
   "cell_type": "code",
   "execution_count": 27,
   "metadata": {},
   "outputs": [],
   "source": [
    "import intake\n",
    "import intake_esm\n",
    "import yaml\n",
    "\n",
    "from tqdm import tqdm\n",
    "import sys\n",
    "\n",
    "import pandas as pd\n",
    "\n",
    "import os\n",
    "from subprocess import check_call, CalledProcessError"
   ]
  },
  {
   "cell_type": "markdown",
   "metadata": {},
   "source": [
    "Show the directories to store database and cached files (set in .intake_esm/config.yaml)"
   ]
  },
  {
   "cell_type": "code",
   "execution_count": 13,
   "metadata": {},
   "outputs": [
    {
     "name": "stdout",
     "output_type": "stream",
     "text": [
      "data-cache-directory: /glade/scratch/mclong/intake-esm-data\n",
      "database-directory: /glade/work/mclong/intake-esm-collections/future-arctic\n"
     ]
    }
   ],
   "source": [
    "for key in ['data-cache-directory', 'database-directory']:\n",
    "    print(f'{key}: {intake_esm.config.get(key)}')\n"
   ]
  },
  {
   "cell_type": "markdown",
   "metadata": {},
   "source": [
    "### query collection using intake plugin interface\n",
    "\n",
    "Connect to database"
   ]
  },
  {
   "cell_type": "code",
   "execution_count": 14,
   "metadata": {},
   "outputs": [
    {
     "name": "stderr",
     "output_type": "stream",
     "text": [
      "Working on experiment: CTRL\n",
      "Getting file listing : GLADE:posix:/glade/collections/cdg/data/cesmLE/CESM-CAM5-BGC-LE\n",
      "Building file database : GLADE:posix:/glade/collections/cdg/data/cesmLE/CESM-CAM5-BGC-LE\n",
      "Filename : f.e11.FAMIPC5CN.f09_f09.rcp85.toga.ens10.clm2.h0.THBOT.200601-201412.nc_temp_.nc does not conform to expected pattern\n",
      "Filename : f.e11.FAMIPC5CN.f09_f09.rcp85.toga.ens10.clm2.h0.ERRH2OSNO.200601-201412.nc_temp_.nc does not conform to expected pattern\n",
      "Filename : f.e11.FAMIPC5CN.f09_f09.rcp85.toga.ens10.clm2.h0.PSNSUN.200601-201412.nc_temp_.nc does not conform to expected pattern\n",
      "Filename : f.e11.FAMIPC5CN.f09_f09.rcp85.toga.ens10.clm2.h0.PRODUCT_CLOSS.200601-201412.nc_temp_.nc does not conform to expected pattern\n",
      "Filename : f.e11.FAMIPC5CN.f09_f09.rcp85.toga.ens10.clm2.h0.PSNSUN_TO_CPOOL.200601-201412.nc_temp_.nc does not conform to expected pattern\n",
      "Could not identify CESM fileparts for : HadISST.cvdp_data.1979-2012.nc\n",
      "Could not identify CESM fileparts for : NASA_Team.cvdp_data.aice.mean_stddev.sh.1979-2012.nc\n",
      "Could not identify CESM fileparts for : GISTEMP.cvdp_data.1920-2015.nc\n",
      "Could not identify CESM fileparts for : CESM1_LENS_SOM_Control.cvdp_data.277-1001.nc\n",
      "Could not identify CESM fileparts for : NASA_Bootstrap_v2_NH.cvdp_data.aice.mean_stddev.nh.1979-2014.nc\n",
      "Could not identify CESM fileparts for : GPCC.cvdp_data.1920-2015.nc\n",
      "Could not identify CESM fileparts for : CESM1_LENS_Coupled_Control.cvdp_data.401-2200.nc\n",
      "Could not identify CESM fileparts for : Walsh_and_Chapman.cvdp_data.1953-2011.nc\n",
      "Could not identify CESM fileparts for : NASA_Bootstrap_v2_NH.cvdp_data.1979-2014.nc\n",
      "Could not identify CESM fileparts for : GPCP.cvdp_data.1979-2012.nc\n",
      "Could not identify CESM fileparts for : 20thC_ReanV2.cvdp_data.1979-2012.nc\n",
      "Could not identify CESM fileparts for : Walsh_and_Chapman.cvdp_data.aice.mean_stddev.nh.1953-2011.nc\n",
      "Could not identify CESM fileparts for : NOAAGlobalTemp.cvdp_data.1979-2012.nc\n",
      "Could not identify CESM fileparts for : NASA_Bootstrap_v2_SH.cvdp_data.1979-2014.nc\n",
      "Could not identify CESM fileparts for : CESM1_LENS_CAM_Control.cvdp_data.100-2600.nc\n",
      "Could not identify CESM fileparts for : HadSLP2r.cvdp_data.1920-2015.nc\n",
      "Could not identify CESM fileparts for : NASA_Team.cvdp_data.1979-2012.nc\n",
      "Could not identify CESM fileparts for : ERSST_v3b.cvdp_data.1920-2015.nc\n",
      "Could not identify CESM fileparts for : NASA_Bootstrap_v2_SH.cvdp_data.aice.mean_stddev.sh.1979-2014.nc\n",
      "Getting file listing : HPSS:hsi:/CCSM/csm/CESM-CAM5-BGC-LE\n",
      "Building file database : HPSS:hsi:/CCSM/csm/CESM-CAM5-BGC-LE\n",
      "Could not extract date string from : bash: error importing function definition for `BASH_FUNC_module'\n",
      "Could not extract date string from : bash: ml: line 1: syntax error: unexpected end of file\n",
      "Could not extract date string from : bash: error importing function definition for `BASH_FUNC_ml'\n",
      "Could not identify CESM fileparts for : Username: mclong  UID: 4267  Acct: 93300012(P93300012) Copies: 1 Firewall: off [hsi.5.0.2.p5 Thu Jan 26 16:27:59 MST 2017] \n",
      "Filename : b.e11.B20TRLENS_RCP85.f09_g16.xaer.001.pop.hv.nc does not conform to expected pattern\n",
      "Filename : b.e11.B20TRLENS_RCP85.f09_g16.xaer.001.pop.h.once.nc does not conform to expected pattern\n",
      "Filename : b.e11.B20TRLENS_RCP85.f09_g16.xaer.002.pop.hv.nc does not conform to expected pattern\n",
      "Filename : b.e11.B20TRLENS_RCP85.f09_g16.xaer.002.pop.h.once.nc does not conform to expected pattern\n",
      "Filename : b.e11.B20TRLENS_RCP85.f09_g16.xaer.003.pop.hv.nc does not conform to expected pattern\n",
      "Filename : b.e11.B20TRLENS_RCP85.f09_g16.xaer.003.pop.h.once.nc does not conform to expected pattern\n",
      "Getting file listing : CACHE:posix:/glade/scratch/mclong/intake-esm-data\n",
      "Building file database : CACHE:posix:/glade/scratch/mclong/intake-esm-data\n",
      "/glade/work/mclong/miniconda3/envs/dev/lib/python3.7/site-packages/pandas/core/ops.py:1649: FutureWarning: elementwise comparison failed; returning scalar instead, but in the future will perform elementwise comparison\n",
      "  result = method(y)\n",
      "Working on experiment: 20C\n",
      "Getting file listing : GLADE:posix:/glade/collections/cdg/data/cesmLE/CESM-CAM5-BGC-LE\n",
      "Building file database : GLADE:posix:/glade/collections/cdg/data/cesmLE/CESM-CAM5-BGC-LE\n",
      "Filename : f.e11.FAMIPC5CN.f09_f09.rcp85.toga.ens10.clm2.h0.THBOT.200601-201412.nc_temp_.nc does not conform to expected pattern\n",
      "Filename : f.e11.FAMIPC5CN.f09_f09.rcp85.toga.ens10.clm2.h0.ERRH2OSNO.200601-201412.nc_temp_.nc does not conform to expected pattern\n",
      "Filename : f.e11.FAMIPC5CN.f09_f09.rcp85.toga.ens10.clm2.h0.PSNSUN.200601-201412.nc_temp_.nc does not conform to expected pattern\n",
      "Filename : f.e11.FAMIPC5CN.f09_f09.rcp85.toga.ens10.clm2.h0.PRODUCT_CLOSS.200601-201412.nc_temp_.nc does not conform to expected pattern\n",
      "Filename : f.e11.FAMIPC5CN.f09_f09.rcp85.toga.ens10.clm2.h0.PSNSUN_TO_CPOOL.200601-201412.nc_temp_.nc does not conform to expected pattern\n",
      "Could not identify CESM fileparts for : HadISST.cvdp_data.1979-2012.nc\n",
      "Could not identify CESM fileparts for : NASA_Team.cvdp_data.aice.mean_stddev.sh.1979-2012.nc\n",
      "Could not identify CESM fileparts for : GISTEMP.cvdp_data.1920-2015.nc\n",
      "Could not identify CESM fileparts for : CESM1_LENS_SOM_Control.cvdp_data.277-1001.nc\n",
      "Could not identify CESM fileparts for : NASA_Bootstrap_v2_NH.cvdp_data.aice.mean_stddev.nh.1979-2014.nc\n",
      "Could not identify CESM fileparts for : GPCC.cvdp_data.1920-2015.nc\n",
      "Could not identify CESM fileparts for : CESM1_LENS_Coupled_Control.cvdp_data.401-2200.nc\n",
      "Could not identify CESM fileparts for : Walsh_and_Chapman.cvdp_data.1953-2011.nc\n",
      "Could not identify CESM fileparts for : NASA_Bootstrap_v2_NH.cvdp_data.1979-2014.nc\n",
      "Could not identify CESM fileparts for : GPCP.cvdp_data.1979-2012.nc\n",
      "Could not identify CESM fileparts for : 20thC_ReanV2.cvdp_data.1979-2012.nc\n",
      "Could not identify CESM fileparts for : Walsh_and_Chapman.cvdp_data.aice.mean_stddev.nh.1953-2011.nc\n",
      "Could not identify CESM fileparts for : NOAAGlobalTemp.cvdp_data.1979-2012.nc\n",
      "Could not identify CESM fileparts for : NASA_Bootstrap_v2_SH.cvdp_data.1979-2014.nc\n",
      "Could not identify CESM fileparts for : CESM1_LENS_CAM_Control.cvdp_data.100-2600.nc\n",
      "Could not identify CESM fileparts for : HadSLP2r.cvdp_data.1920-2015.nc\n",
      "Could not identify CESM fileparts for : NASA_Team.cvdp_data.1979-2012.nc\n",
      "Could not identify CESM fileparts for : ERSST_v3b.cvdp_data.1920-2015.nc\n",
      "Could not identify CESM fileparts for : NASA_Bootstrap_v2_SH.cvdp_data.aice.mean_stddev.sh.1979-2014.nc\n",
      "Getting file listing : HPSS:hsi:/CCSM/csm/CESM-CAM5-BGC-LE\n",
      "Building file database : HPSS:hsi:/CCSM/csm/CESM-CAM5-BGC-LE\n",
      "Could not extract date string from : bash: error importing function definition for `BASH_FUNC_module'\n",
      "Could not extract date string from : bash: ml: line 1: syntax error: unexpected end of file\n",
      "Could not extract date string from : bash: error importing function definition for `BASH_FUNC_ml'\n",
      "Could not identify CESM fileparts for : Username: mclong  UID: 4267  Acct: 93300012(P93300012) Copies: 1 Firewall: off [hsi.5.0.2.p5 Thu Jan 26 16:27:59 MST 2017] \n",
      "Filename : b.e11.B20TRLENS_RCP85.f09_g16.xaer.001.pop.hv.nc does not conform to expected pattern\n",
      "Filename : b.e11.B20TRLENS_RCP85.f09_g16.xaer.001.pop.h.once.nc does not conform to expected pattern\n",
      "Filename : b.e11.B20TRLENS_RCP85.f09_g16.xaer.002.pop.hv.nc does not conform to expected pattern\n",
      "Filename : b.e11.B20TRLENS_RCP85.f09_g16.xaer.002.pop.h.once.nc does not conform to expected pattern\n",
      "Filename : b.e11.B20TRLENS_RCP85.f09_g16.xaer.003.pop.hv.nc does not conform to expected pattern\n",
      "Filename : b.e11.B20TRLENS_RCP85.f09_g16.xaer.003.pop.h.once.nc does not conform to expected pattern\n",
      "Getting file listing : CACHE:posix:/glade/scratch/mclong/intake-esm-data\n",
      "Building file database : CACHE:posix:/glade/scratch/mclong/intake-esm-data\n",
      "/glade/work/mclong/miniconda3/envs/dev/lib/python3.7/site-packages/pandas/core/ops.py:1649: FutureWarning: elementwise comparison failed; returning scalar instead, but in the future will perform elementwise comparison\n",
      "  result = method(y)\n",
      "Working on experiment: RCP85\n",
      "Getting file listing : GLADE:posix:/glade/collections/cdg/data/cesmLE/CESM-CAM5-BGC-LE\n",
      "Building file database : GLADE:posix:/glade/collections/cdg/data/cesmLE/CESM-CAM5-BGC-LE\n",
      "Filename : f.e11.FAMIPC5CN.f09_f09.rcp85.toga.ens10.clm2.h0.THBOT.200601-201412.nc_temp_.nc does not conform to expected pattern\n",
      "Filename : f.e11.FAMIPC5CN.f09_f09.rcp85.toga.ens10.clm2.h0.ERRH2OSNO.200601-201412.nc_temp_.nc does not conform to expected pattern\n",
      "Filename : f.e11.FAMIPC5CN.f09_f09.rcp85.toga.ens10.clm2.h0.PSNSUN.200601-201412.nc_temp_.nc does not conform to expected pattern\n",
      "Filename : f.e11.FAMIPC5CN.f09_f09.rcp85.toga.ens10.clm2.h0.PRODUCT_CLOSS.200601-201412.nc_temp_.nc does not conform to expected pattern\n",
      "Filename : f.e11.FAMIPC5CN.f09_f09.rcp85.toga.ens10.clm2.h0.PSNSUN_TO_CPOOL.200601-201412.nc_temp_.nc does not conform to expected pattern\n",
      "Could not identify CESM fileparts for : HadISST.cvdp_data.1979-2012.nc\n",
      "Could not identify CESM fileparts for : NASA_Team.cvdp_data.aice.mean_stddev.sh.1979-2012.nc\n",
      "Could not identify CESM fileparts for : GISTEMP.cvdp_data.1920-2015.nc\n",
      "Could not identify CESM fileparts for : CESM1_LENS_SOM_Control.cvdp_data.277-1001.nc\n",
      "Could not identify CESM fileparts for : NASA_Bootstrap_v2_NH.cvdp_data.aice.mean_stddev.nh.1979-2014.nc\n",
      "Could not identify CESM fileparts for : GPCC.cvdp_data.1920-2015.nc\n",
      "Could not identify CESM fileparts for : CESM1_LENS_Coupled_Control.cvdp_data.401-2200.nc\n",
      "Could not identify CESM fileparts for : Walsh_and_Chapman.cvdp_data.1953-2011.nc\n",
      "Could not identify CESM fileparts for : NASA_Bootstrap_v2_NH.cvdp_data.1979-2014.nc\n",
      "Could not identify CESM fileparts for : GPCP.cvdp_data.1979-2012.nc\n",
      "Could not identify CESM fileparts for : 20thC_ReanV2.cvdp_data.1979-2012.nc\n",
      "Could not identify CESM fileparts for : Walsh_and_Chapman.cvdp_data.aice.mean_stddev.nh.1953-2011.nc\n",
      "Could not identify CESM fileparts for : NOAAGlobalTemp.cvdp_data.1979-2012.nc\n",
      "Could not identify CESM fileparts for : NASA_Bootstrap_v2_SH.cvdp_data.1979-2014.nc\n",
      "Could not identify CESM fileparts for : CESM1_LENS_CAM_Control.cvdp_data.100-2600.nc\n",
      "Could not identify CESM fileparts for : HadSLP2r.cvdp_data.1920-2015.nc\n",
      "Could not identify CESM fileparts for : NASA_Team.cvdp_data.1979-2012.nc\n",
      "Could not identify CESM fileparts for : ERSST_v3b.cvdp_data.1920-2015.nc\n",
      "Could not identify CESM fileparts for : NASA_Bootstrap_v2_SH.cvdp_data.aice.mean_stddev.sh.1979-2014.nc\n",
      "Getting file listing : HPSS:hsi:/CCSM/csm/CESM-CAM5-BGC-LE\n",
      "Building file database : HPSS:hsi:/CCSM/csm/CESM-CAM5-BGC-LE\n",
      "Could not extract date string from : bash: error importing function definition for `BASH_FUNC_module'\n",
      "Could not extract date string from : bash: ml: line 1: syntax error: unexpected end of file\n",
      "Could not extract date string from : bash: error importing function definition for `BASH_FUNC_ml'\n",
      "Could not identify CESM fileparts for : Username: mclong  UID: 4267  Acct: 93300012(P93300012) Copies: 1 Firewall: off [hsi.5.0.2.p5 Thu Jan 26 16:27:59 MST 2017] \n",
      "Filename : b.e11.B20TRLENS_RCP85.f09_g16.xaer.001.pop.hv.nc does not conform to expected pattern\n",
      "Filename : b.e11.B20TRLENS_RCP85.f09_g16.xaer.001.pop.h.once.nc does not conform to expected pattern\n",
      "Filename : b.e11.B20TRLENS_RCP85.f09_g16.xaer.002.pop.hv.nc does not conform to expected pattern\n",
      "Filename : b.e11.B20TRLENS_RCP85.f09_g16.xaer.002.pop.h.once.nc does not conform to expected pattern\n",
      "Filename : b.e11.B20TRLENS_RCP85.f09_g16.xaer.003.pop.hv.nc does not conform to expected pattern\n",
      "Filename : b.e11.B20TRLENS_RCP85.f09_g16.xaer.003.pop.h.once.nc does not conform to expected pattern\n",
      "Getting file listing : CACHE:posix:/glade/scratch/mclong/intake-esm-data\n",
      "Building file database : CACHE:posix:/glade/scratch/mclong/intake-esm-data\n",
      "/glade/work/mclong/miniconda3/envs/dev/lib/python3.7/site-packages/pandas/core/ops.py:1649: FutureWarning: elementwise comparison failed; returning scalar instead, but in the future will perform elementwise comparison\n",
      "  result = method(y)\n",
      "None\n",
      "Persisting cesm1-le at : /glade/work/mclong/intake-esm-collections/future-arctic/cesm/cesm1-le.csv\n"
     ]
    },
    {
     "name": "stdout",
     "output_type": "stream",
     "text": [
      "<class 'pandas.core.frame.DataFrame'>\n",
      "RangeIndex: 261628 entries, 0 to 261627\n",
      "Data columns (total 18 columns):\n",
      "resource            261628 non-null object\n",
      "resource_type       261628 non-null object\n",
      "direct_access       261628 non-null object\n",
      "experiment          261628 non-null object\n",
      "case                261628 non-null object\n",
      "component           261628 non-null object\n",
      "stream              261628 non-null object\n",
      "variable            261628 non-null object\n",
      "date_range          261628 non-null object\n",
      "ensemble            261628 non-null object\n",
      "files               261628 non-null object\n",
      "files_basename      261628 non-null object\n",
      "files_dirname       261628 non-null object\n",
      "ctrl_branch_year    0 non-null object\n",
      "year_offset         34112 non-null object\n",
      "sequence_order      261628 non-null object\n",
      "has_ocean_bgc       261628 non-null object\n",
      "grid                52299 non-null object\n",
      "dtypes: object(18)\n",
      "memory usage: 35.9+ MB\n"
     ]
    },
    {
     "data": {
      "text/plain": [
       "<Intake catalog: esm_metadatastore>"
      ]
     },
     "execution_count": 14,
     "metadata": {},
     "output_type": "execute_result"
    }
   ],
   "source": [
    "col = intake.open_esm_metadatastore(collection_input_file='cesm1-le-collection.yml',\n",
    "                                    overwrite_existing=True)\n",
    "col                     "
   ]
  },
  {
   "cell_type": "code",
   "execution_count": 15,
   "metadata": {},
   "outputs": [
    {
     "name": "stdout",
     "output_type": "stream",
     "text": [
      "<class 'pandas.core.frame.DataFrame'>\n",
      "Int64Index: 261628 entries, 0 to 261627\n",
      "Data columns (total 18 columns):\n",
      "resource            261628 non-null object\n",
      "resource_type       261628 non-null object\n",
      "direct_access       261628 non-null bool\n",
      "experiment          261628 non-null object\n",
      "case                261628 non-null object\n",
      "component           261628 non-null object\n",
      "stream              261628 non-null object\n",
      "variable            261628 non-null object\n",
      "date_range          261628 non-null object\n",
      "ensemble            261628 non-null int64\n",
      "files               261628 non-null object\n",
      "files_basename      261628 non-null object\n",
      "files_dirname       261628 non-null object\n",
      "ctrl_branch_year    0 non-null float64\n",
      "year_offset         34112 non-null float64\n",
      "sequence_order      261628 non-null int64\n",
      "has_ocean_bgc       261628 non-null bool\n",
      "grid                52299 non-null object\n",
      "dtypes: bool(2), float64(2), int64(2), object(12)\n",
      "memory usage: 34.4+ MB\n"
     ]
    }
   ],
   "source": [
    "col.df.info()"
   ]
  },
  {
   "cell_type": "markdown",
   "metadata": {},
   "source": [
    "Determine which ensembles have ocean biogeochemistry variables."
   ]
  },
  {
   "cell_type": "code",
   "execution_count": 16,
   "metadata": {},
   "outputs": [
    {
     "name": "stdout",
     "output_type": "stream",
     "text": [
      "[1, 2, 9, 10, 11, 12, 13, 14, 15, 16, 17, 18, 19, 20, 21, 22, 23, 24, 26, 27, 28, 29, 30, 31, 32, 34, 35, 101, 102, 103, 104, 105]\n"
     ]
    }
   ],
   "source": [
    "experiments=['20C', 'RCP85']\n",
    "ensembles = col.search(experiment=experiments, has_ocean_bgc=True).results.ensemble.unique().tolist()\n",
    "print(ensembles)"
   ]
  },
  {
   "cell_type": "markdown",
   "metadata": {},
   "source": [
    "Determine what ocean variables are available at monthly and daily resolution.  The POP model is not smart enough to write the same variable to two different streams, so it is not necessary to inclued `stream` in database queries for POP. We can, however, view all the variables defined in each stream."
   ]
  },
  {
   "cell_type": "code",
   "execution_count": 17,
   "metadata": {},
   "outputs": [
    {
     "name": "stdout",
     "output_type": "stream",
     "text": [
      "day: [CaCO3_form_zint, DpCO2_2, ECOSYS_IFRAC_2, ECOSYS_XKW_2, FG_CO2_2, HBLT_2, HMXL_2,\n",
      "  SSH_2, SST, SST2, STF_O2_2, TAUX_2, TAUY_2, WVEL_50m, XBLT_2, XMXL_2, diatC_zint_100m,\n",
      "  diatChl_SURF, diazC_zint_100m, diazChl_SURF, photoC_diat_zint, photoC_diaz_zint,\n",
      "  photoC_sp_zint, spC_zint_100m, spCaCO3_zint_100m, spChl_SURF, zooC_zint_100m]\n",
      "mon: [ADVS, ADVS_ISOP, ADVS_SUBM, ADVT, ADVT_ISOP, ADVT_SUBM, ALK, AOU, ATM_ALT_CO2,\n",
      "  ATM_CO2, BSF, CFC11, CFC12, CFC_ATM_PRESS, CFC_IFRAC, CFC_XKW, CO2STAR, CO3, CaCO3_FLUX_IN,\n",
      "  CaCO3_PROD, CaCO3_form, DCO2STAR, DCO2STAR_ALT_CO2, DENITRIF, DIA_DEPTH, DIA_IMPVF_CFC11,\n",
      "  DIA_IMPVF_CFC12, DIA_IMPVF_IAGE, DIA_IMPVF_SALT, DIA_IMPVF_TEMP, DIC, DIC_ALT_CO2,\n",
      "  DOC, DOC_prod, DOC_remin, DOFe, DOFe_prod, DON, DON_prod, DOP, DOP_prod, DpCO2,\n",
      "  DpCO2_ALT_CO2, ECOSYS_ATM_PRESS, ECOSYS_IFRAC, ECOSYS_XKW, EVAP_F, FG_ALT_CO2, FG_CO2,\n",
      "  FW, Fe, Fe_scavenge, Fe_scavenge_rate, FvICE_ALK, FvICE_DIC, FvPER_ALK, FvPER_DIC,\n",
      "  H2CO3, HBLT, HCO3, HDIFB_CFC11, HDIFB_CFC12, HDIFB_IAGE, HDIFB_SALT, HDIFB_TEMP,\n",
      "  HDIFE_CFC11, HDIFE_CFC12, HDIFE_IAGE, HDIFE_SALT, HDIFE_TEMP, HDIFN_CFC11, HDIFN_CFC12,\n",
      "  HDIFN_IAGE, HDIFN_SALT, HDIFN_TEMP, HDIFS, HDIFT, HLS_SUBM, HMXL, HOR_DIFF, IAGE,\n",
      "  IAGE_RESET_TEND, IFRAC, INT_DEPTH, IOFF_F, IRON_FLUX, J_DIC, Jint_100m_ALK, Jint_100m_DIC,\n",
      "  Jint_100m_DOC, Jint_100m_Fe, Jint_100m_NH4, Jint_100m_NO3, Jint_100m_O2, Jint_100m_PO4,\n",
      "  Jint_100m_SiO3, KAPPA_ISOP, KAPPA_THIC, KPP_SRC_CFC11, KPP_SRC_CFC12, KPP_SRC_SALT,\n",
      "  KPP_SRC_TEMP, KVMIX, KVMIX_M, LWDN_F, LWUP_F, MELTH_F, MELT_F, MOC, NH4, NHy_FLUX,\n",
      "  NITRIF, NO3, NOx_FLUX, N_HEAT, N_SALT, O2, O2SAT, O2_CONSUMPTION, O2_PRODUCTION,\n",
      "  O2_ZMIN, O2_ZMIN_DEPTH, PAR_avg, PD, PH, PH_ALT_CO2, PO4, POC_FLUX_IN, POC_PROD,\n",
      "  PREC_F, PV, P_iron_FLUX_IN, P_iron_PROD, Q, QFLUX, QSW_3D, QSW_HBL, QSW_HTP, RESID_S,\n",
      "  RESID_T, RHO, RHO_VINT, ROFF_F, SALT, SALT_F, SCHMIDT_CO2, SCHMIDT_O2, SENH_F, SFWF,\n",
      "  SFWF_WRST, SHF, SHF_QSW, SNOW_F, SSH, SSH2, SST, STF_CFC11, STF_CFC12, STF_O2, SU,\n",
      "  SV, SiO2_FLUX_IN, SiO2_PROD, SiO3, TAUX, TAUX2, TAUY, TAUY2, TBLT, TEMP, TFW_S,\n",
      "  TFW_T, TLT, TMXL, TPOWER, UES, UET, UE_CFC11, UE_CFC12, UE_IAGE, UISOP, USUBM, UVEL,\n",
      "  UVEL2, VDC_S, VDC_T, VISOP, VNS, VNS_ISOP, VNS_SUBM, VNT, VNT_ISOP, VNT_SUBM, VN_CFC11,\n",
      "  VN_CFC12, VN_IAGE, VSUBM, VVC, VVEL, VVEL2, WISOP, WSUBM, WTS, WTT, WT_CFC11, WT_CFC12,\n",
      "  WT_IAGE, WVEL, WVEL2, XBLT, XMXL, bSi_form, co3_sat_arag, co3_sat_calc, dTEMP_NEG_2D,\n",
      "  dTEMP_POS_2D, diatC, diatChl, diatFe, diatSi, diat_Fe_lim, diat_N_lim, diat_PO4_lim,\n",
      "  diat_SiO3_lim, diat_agg, diat_light_lim, diat_loss, diazC, diazChl, diazFe, diaz_Fe_lim,\n",
      "  diaz_Nfix, diaz_P_lim, diaz_light_lim, diaz_loss, graze_diat, graze_diaz, graze_sp,\n",
      "  pCO2SURF, pH_3D, photoC_NO3_diat, photoC_NO3_diat_zint, photoC_NO3_diaz, photoC_NO3_diaz_zint,\n",
      "  photoC_NO3_sp, photoC_NO3_sp_zint, photoC_diat, photoC_diaz, photoC_sp, spC, spCaCO3,\n",
      "  spChl, spFe, sp_Fe_lim, sp_N_lim, sp_PO4_lim, sp_agg, sp_light_lim, sp_loss, tend_zint_100m_ALK,\n",
      "  tend_zint_100m_DIC, tend_zint_100m_DIC_ALT_CO2, tend_zint_100m_DOC, tend_zint_100m_Fe,\n",
      "  tend_zint_100m_NH4, tend_zint_100m_NO3, tend_zint_100m_O2, tend_zint_100m_PO4, tend_zint_100m_SiO3,\n",
      "  zooC, zoo_loss, zsatarag, zsatcalc]\n",
      "\n"
     ]
    }
   ],
   "source": [
    "stream_def = {'mon': 'pop.h', 'day': ['pop.h.nday1', 'pop.h.ecosys.nday1']}\n",
    "\n",
    "all_variables = {'mon': col.search(component='ocn', stream=stream_def['mon']).results.variable.unique().tolist(), \n",
    "             'day': col.search(component='ocn', stream=stream_def['day']).results.variable.unique().tolist()}\n",
    "print(yaml.dump(all_variables))"
   ]
  },
  {
   "cell_type": "markdown",
   "metadata": {},
   "source": [
    "This analysis will focus on a subset of those variables."
   ]
  },
  {
   "cell_type": "code",
   "execution_count": 18,
   "metadata": {},
   "outputs": [
    {
     "name": "stdout",
     "output_type": "stream",
     "text": [
      "/bin/sh: module: line 1: syntax error: unexpected end of file\n",
      "/bin/sh: error importing function definition for `BASH_FUNC_module'\n",
      "/bin/sh: ml: line 1: syntax error: unexpected end of file\n",
      "/bin/sh: error importing function definition for `BASH_FUNC_ml'\n",
      "day: [ECOSYS_IFRAC_2, HMXL_2, SST, XMXL_2, diatC_zint_100m, diatChl_SURF, photoC_diat_zint,\n",
      "  photoC_sp_zint, spC_zint_100m, spChl_SURF, zooC_zint_100m]\n",
      "mon: [ECOSYS_IFRAC, Fe, HMXL, Jint_100m_DIC, NH4, NO3, NOx_FLUX, PAR_avg, PD, PO4,\n",
      "  POC_FLUX_IN, POC_PROD, SALT, SiO3, TBLT, TEMP, XMXL, diatC, diatChl, diat_Fe_lim,\n",
      "  diat_N_lim, diat_PO4_lim, diat_SiO3_lim, diat_agg, diat_light_lim, diat_loss, graze_diat,\n",
      "  graze_diaz, graze_sp, photoC_NO3_diat, photoC_NO3_diat_zint, photoC_NO3_sp, photoC_NO3_sp_zint,\n",
      "  photoC_diat, photoC_sp, spC, spChl, sp_Fe_lim, sp_N_lim, sp_PO4_lim, sp_agg, sp_light_lim,\n",
      "  sp_loss, tend_zint_100m_NO3, zooC, zoo_loss]\n"
     ]
    }
   ],
   "source": [
    "variables = yaml.load('''\n",
    "day: [ECOSYS_IFRAC_2, HMXL_2, SST, XMXL_2, \n",
    "      diatC_zint_100m, diatChl_SURF, photoC_diat_zint,\n",
    "      photoC_sp_zint, spC_zint_100m, spChl_SURF, zooC_zint_100m]\n",
    "mon: [ECOSYS_IFRAC, Fe, HMXL, Jint_100m_DIC, NH4, NO3, NOx_FLUX, PAR_avg, PD, PO4, \n",
    "      POC_FLUX_IN, POC_PROD, SALT, SiO3, TBLT, TEMP, XMXL, diatC, diatChl, \n",
    "      diat_Fe_lim, diat_N_lim, diat_PO4_lim, diat_SiO3_lim, diat_agg, diat_light_lim, diat_loss, \n",
    "      graze_diat, graze_diaz, graze_sp, photoC_NO3_diat, photoC_NO3_diat_zint, photoC_NO3_sp, \n",
    "      photoC_NO3_sp_zint, photoC_diat, photoC_sp, spC, spChl, sp_Fe_lim, sp_N_lim, sp_PO4_lim, \n",
    "      sp_agg, sp_light_lim, sp_loss, tend_zint_100m_NO3, zooC, zoo_loss]\n",
    "''')\n",
    "with open('variables.yml', 'w') as fid:\n",
    "    yaml.dump(variables, fid)\n",
    "    \n",
    "variable_list = []\n",
    "for k, v in variables.items():\n",
    "    variable_list.extend(v)\n",
    "    \n",
    "!cat variables.yml"
   ]
  },
  {
   "cell_type": "markdown",
   "metadata": {},
   "source": [
    "### query catalog for full-subset"
   ]
  },
  {
   "cell_type": "code",
   "execution_count": 19,
   "metadata": {},
   "outputs": [
    {
     "name": "stdout",
     "output_type": "stream",
     "text": [
      "<class 'pandas.core.frame.DataFrame'>\n",
      "Int64Index: 6580 entries, 226491 to 1379\n",
      "Data columns (total 18 columns):\n",
      "resource            6580 non-null object\n",
      "resource_type       6580 non-null object\n",
      "direct_access       6580 non-null bool\n",
      "experiment          6580 non-null object\n",
      "case                6580 non-null object\n",
      "component           6580 non-null object\n",
      "stream              6580 non-null object\n",
      "variable            6580 non-null object\n",
      "date_range          6580 non-null object\n",
      "ensemble            6580 non-null int64\n",
      "files               6580 non-null object\n",
      "files_basename      6580 non-null object\n",
      "files_dirname       6580 non-null object\n",
      "ctrl_branch_year    0 non-null float64\n",
      "year_offset         0 non-null float64\n",
      "sequence_order      6580 non-null int64\n",
      "has_ocean_bgc       6580 non-null bool\n",
      "grid                6580 non-null object\n",
      "dtypes: bool(2), float64(2), int64(2), object(12)\n",
      "memory usage: 886.8+ KB\n"
     ]
    }
   ],
   "source": [
    "cat = col.search(experiment=experiments,\n",
    "                 ensemble=ensembles, \n",
    "                 variable=variable_list)\n",
    "cat.results.info()"
   ]
  },
  {
   "cell_type": "markdown",
   "metadata": {},
   "source": [
    "### ensure all data is accessible on spinning-disk"
   ]
  },
  {
   "cell_type": "markdown",
   "metadata": {},
   "source": [
    "The catalog includes data from multiple locations; what are those locations and are they accessible via direct access?"
   ]
  },
  {
   "cell_type": "code",
   "execution_count": 20,
   "metadata": {},
   "outputs": [
    {
     "data": {
      "text/plain": [
       "{'HPSS:hsi:/CCSM/csm/CESM-CAM5-BGC-LE': False,\n",
       " 'GLADE:posix:/glade/collections/cdg/data/cesmLE/CESM-CAM5-BGC-LE': True}"
      ]
     },
     "execution_count": 20,
     "metadata": {},
     "output_type": "execute_result"
    }
   ],
   "source": [
    "df = cat.results\n",
    "resource_access = {}\n",
    "for res in df.resource.unique():\n",
    "    resource_access[res] = df.direct_access.loc[df.resource == res].unique()[0]\n",
    "resource_access"
   ]
  },
  {
   "cell_type": "markdown",
   "metadata": {},
   "source": [
    "Determine which files need to be transferred from tape."
   ]
  },
  {
   "cell_type": "code",
   "execution_count": 21,
   "metadata": {},
   "outputs": [
    {
     "name": "stdout",
     "output_type": "stream",
     "text": [
      "<class 'pandas.core.frame.DataFrame'>\n",
      "RangeIndex: 3744 entries, 0 to 3743\n",
      "Data columns (total 18 columns):\n",
      "resource            3744 non-null object\n",
      "resource_type       3744 non-null object\n",
      "direct_access       3744 non-null object\n",
      "experiment          3744 non-null object\n",
      "case                3744 non-null object\n",
      "component           3744 non-null object\n",
      "stream              3744 non-null object\n",
      "variable            3744 non-null object\n",
      "date_range          3744 non-null object\n",
      "ensemble            3744 non-null object\n",
      "files               3744 non-null object\n",
      "files_basename      3744 non-null object\n",
      "files_dirname       3744 non-null object\n",
      "ctrl_branch_year    0 non-null object\n",
      "year_offset         0 non-null object\n",
      "sequence_order      3744 non-null object\n",
      "has_ocean_bgc       3744 non-null object\n",
      "grid                3744 non-null object\n",
      "dtypes: object(18)\n",
      "memory usage: 526.6+ KB\n"
     ]
    }
   ],
   "source": [
    "df_transfer = pd.DataFrame(columns=df.columns)\n",
    "for file in df.files_basename.unique():\n",
    "    df_file_subset = df.loc[df.files_basename == file]\n",
    "    if not any(df_file_subset.direct_access):\n",
    "        df_transfer = pd.concat((df_transfer, df_file_subset), ignore_index=True) \n",
    "df_transfer.info()"
   ]
  },
  {
   "cell_type": "code",
   "execution_count": null,
   "metadata": {},
   "outputs": [
    {
     "name": "stdout",
     "output_type": "stream",
     "text": [
      "\n",
      "\n",
      "0it [00:00, ?it/s]\u001b[A\u001b[A\n",
      "\n",
      "1it [00:00,  3.36it/s]\u001b[A\u001b[A\n",
      "\n",
      "2it [00:38, 11.66s/it]\u001b[A\u001b[A\n",
      "\n",
      "3it [01:53, 30.73s/it]\u001b[A\u001b[A\n",
      "\n",
      "4it [02:56, 40.40s/it]\u001b[A\u001b[A\n",
      "\n",
      "5it [04:28, 55.74s/it]\u001b[A\u001b[A\n",
      "\n",
      "6it [06:31, 75.90s/it]\u001b[A\u001b[A\n",
      "\n",
      "7it [08:18, 85.30s/it]\u001b[A\u001b[A\n",
      "\n",
      "8it [09:31, 81.76s/it]\u001b[A\u001b[A\n",
      "\n",
      "9it [11:15, 88.32s/it]\u001b[A\u001b[A\n",
      "\n",
      "10it [12:46, 89.22s/it]\u001b[A\u001b[A\n",
      "\n",
      "11it [14:51, 99.81s/it]\u001b[A\u001b[A\n",
      "\n",
      "12it [16:42, 103.21s/it]\u001b[A\u001b[A\n",
      "\n",
      "13it [18:27, 103.82s/it]\u001b[A\u001b[A\n",
      "\n",
      "14it [19:38, 93.92s/it] \u001b[A\u001b[A\n",
      "\n",
      "15it [21:45, 103.73s/it]\u001b[A\u001b[A\n",
      "\n",
      "16it [22:52, 92.73s/it] \u001b[A\u001b[A\n",
      "\n",
      "17it [24:53, 101.19s/it]\u001b[A\u001b[A"
     ]
    }
   ],
   "source": [
    "os.makedirs(intake_esm.config.get('data-cache-directory'), exist_ok=True)\n",
    "\n",
    "for idx, row in tqdm(df_transfer.iterrows(), file=sys.stdout):\n",
    "    file_remote = row.files\n",
    "    file_local = os.path.join(intake_esm.config.get('data-cache-directory'), row.files_basename)\n",
    "    try:\n",
    "        check_call(['hsi',f\"cget {file_local} : {file_remote}\"])\n",
    "    except (CalledProcessError) as err:\n",
    "        print('\\n'+'-'*80)\n",
    "        print('error!')       \n",
    "        print(' '.join(['hsi',f\"cget {file_local} : {file_remote}\"]))\n",
    "        print('-'*80)\n",
    "        raise err"
   ]
  },
  {
   "cell_type": "code",
   "execution_count": null,
   "metadata": {},
   "outputs": [],
   "source": [
    "col = intake.open_esm_metadatastore(collection_input_file='cesm1-le-collection.yml',\n",
    "                                    overwrite_existing=True)\n",
    "col  "
   ]
  },
  {
   "cell_type": "code",
   "execution_count": null,
   "metadata": {},
   "outputs": [],
   "source": [
    "%load_ext watermark"
   ]
  },
  {
   "cell_type": "code",
   "execution_count": null,
   "metadata": {},
   "outputs": [],
   "source": [
    "%watermark --iversion -g -h -m -v -u -d"
   ]
  },
  {
   "cell_type": "code",
   "execution_count": null,
   "metadata": {},
   "outputs": [],
   "source": []
  }
 ],
 "metadata": {
  "kernelspec": {
   "display_name": "Python [conda env:dev]",
   "language": "python",
   "name": "conda-env-dev-py"
  },
  "language_info": {
   "codemirror_mode": {
    "name": "ipython",
    "version": 3
   },
   "file_extension": ".py",
   "mimetype": "text/x-python",
   "name": "python",
   "nbconvert_exporter": "python",
   "pygments_lexer": "ipython3",
   "version": "3.7.1"
  }
 },
 "nbformat": 4,
 "nbformat_minor": 2
}

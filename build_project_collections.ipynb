{
 "cells": [
  {
   "cell_type": "markdown",
   "metadata": {},
   "source": [
    "# build a database of CESM-LE files"
   ]
  },
  {
   "cell_type": "code",
   "execution_count": 12,
   "metadata": {},
   "outputs": [],
   "source": [
    "import intake\n",
    "import intake_cesm\n",
    "import yaml\n",
    "\n",
    "from tqdm import tqdm\n",
    "import sys\n",
    "\n",
    "import pandas as pd\n",
    "\n",
    "import os\n",
    "from subprocess import check_call\n"
   ]
  },
  {
   "cell_type": "markdown",
   "metadata": {},
   "source": [
    "show the directories to store database and cached files (set in .config-intake-cesm.yml)"
   ]
  },
  {
   "cell_type": "markdown",
   "metadata": {},
   "source": [
    "### query collection using intake plugin interface\n",
    "\n",
    "Connect to database"
   ]
  },
  {
   "cell_type": "code",
   "execution_count": 13,
   "metadata": {},
   "outputs": [
    {
     "data": {
      "text/plain": [
       "'/glade/scratch/mclong/intake-cesm-data'"
      ]
     },
     "execution_count": 13,
     "metadata": {},
     "output_type": "execute_result"
    }
   ],
   "source": [
    "intake_cesm_config = intake_cesm.get_options()\n",
    "cache_directory = intake_cesm_config['cache_directory']\n",
    "cache_directory"
   ]
  },
  {
   "cell_type": "code",
   "execution_count": 14,
   "metadata": {},
   "outputs": [
    {
     "name": "stdout",
     "output_type": "stream",
     "text": [
      "Active collection: cesm1_le\n"
     ]
    },
    {
     "data": {
      "text/plain": [
       "<Intake catalog: cesm1_le>"
      ]
     },
     "execution_count": 14,
     "metadata": {},
     "output_type": "execute_result"
    }
   ],
   "source": [
    "build_kwargs = dict(collection_input_file='intake-collection-input-cesm1_le.yml',\n",
    "                    collection_type_def_file='intake-cesm-definitions.yml',\n",
    "                    overwrite_existing=False, \n",
    "                    include_cache_dir=True)\n",
    "\n",
    "col = intake.open_cesm_metadatastore('cesm1_le', build_kwargs=build_kwargs)\n",
    "col                     "
   ]
  },
  {
   "cell_type": "code",
   "execution_count": 16,
   "metadata": {},
   "outputs": [
    {
     "name": "stdout",
     "output_type": "stream",
     "text": [
      "<class 'pandas.core.frame.DataFrame'>\n",
      "Int64Index: 262092 entries, 0 to 262091\n",
      "Data columns (total 18 columns):\n",
      "resource            262092 non-null object\n",
      "resource_type       262092 non-null object\n",
      "direct_access       262092 non-null bool\n",
      "experiment          262092 non-null object\n",
      "case                262092 non-null object\n",
      "component           262092 non-null object\n",
      "stream              262092 non-null object\n",
      "variable            262092 non-null object\n",
      "date_range          262092 non-null object\n",
      "ensemble            262092 non-null int64\n",
      "files               262092 non-null object\n",
      "files_basename      262092 non-null object\n",
      "files_dirname       262092 non-null object\n",
      "ctrl_branch_year    0 non-null float64\n",
      "year_offset         34112 non-null float64\n",
      "sequence_order      262092 non-null int64\n",
      "has_ocean_bgc       262092 non-null bool\n",
      "grid                52764 non-null object\n",
      "dtypes: bool(2), float64(2), int64(2), object(12)\n",
      "memory usage: 34.5+ MB\n"
     ]
    }
   ],
   "source": [
    "col.df.info()"
   ]
  },
  {
   "cell_type": "markdown",
   "metadata": {},
   "source": [
    "Determine which ensembles have ocean biogeochemistry variables."
   ]
  },
  {
   "cell_type": "code",
   "execution_count": 17,
   "metadata": {},
   "outputs": [
    {
     "name": "stdout",
     "output_type": "stream",
     "text": [
      "[1, 2, 9, 10, 11, 12, 13, 14, 15, 16, 17, 18, 19, 20, 21, 22, 23, 24, 26, 27, 28, 29, 30, 31, 32, 34, 35, 101, 102, 103, 104, 105]\n"
     ]
    }
   ],
   "source": [
    "experiments=['20C', 'RCP85']\n",
    "ensembles = col.search(experiment=experiments, has_ocean_bgc=True).results.ensemble.unique().tolist()\n",
    "print(ensembles)"
   ]
  },
  {
   "cell_type": "markdown",
   "metadata": {},
   "source": [
    "Determine what ocean variables are available at monthly and daily resolution.  The POP model is not smart enough to write the same variable to two different streams, so it is not necessary to inclued `stream` in database queries for POP. We can, however, view all the variables defined in each stream."
   ]
  },
  {
   "cell_type": "code",
   "execution_count": 18,
   "metadata": {},
   "outputs": [
    {
     "name": "stdout",
     "output_type": "stream",
     "text": [
      "day: [CaCO3_form_zint, DpCO2_2, ECOSYS_IFRAC_2, ECOSYS_XKW_2, FG_CO2_2, HBLT_2, HMXL_2,\n",
      "  SSH_2, SST, SST2, STF_O2_2, TAUX_2, TAUY_2, WVEL_50m, XBLT_2, XMXL_2, diatC_zint_100m,\n",
      "  diatChl_SURF, diazC_zint_100m, diazChl_SURF, photoC_diat_zint, photoC_diaz_zint,\n",
      "  photoC_sp_zint, spC_zint_100m, spCaCO3_zint_100m, spChl_SURF, zooC_zint_100m]\n",
      "mon: [ADVS, ADVS_ISOP, ADVS_SUBM, ADVT, ADVT_ISOP, ADVT_SUBM, ALK, AOU, ATM_ALT_CO2,\n",
      "  ATM_CO2, BSF, CFC11, CFC12, CFC_ATM_PRESS, CFC_IFRAC, CFC_XKW, CO2STAR, CO3, CaCO3_FLUX_IN,\n",
      "  CaCO3_PROD, CaCO3_form, DCO2STAR, DCO2STAR_ALT_CO2, DENITRIF, DIA_DEPTH, DIA_IMPVF_CFC11,\n",
      "  DIA_IMPVF_CFC12, DIA_IMPVF_IAGE, DIA_IMPVF_SALT, DIA_IMPVF_TEMP, DIC, DIC_ALT_CO2,\n",
      "  DOC, DOC_prod, DOC_remin, DOFe, DOFe_prod, DON, DON_prod, DOP, DOP_prod, DpCO2,\n",
      "  DpCO2_ALT_CO2, ECOSYS_ATM_PRESS, ECOSYS_IFRAC, ECOSYS_XKW, EVAP_F, FG_ALT_CO2, FG_CO2,\n",
      "  FW, Fe, Fe_scavenge, Fe_scavenge_rate, FvICE_ALK, FvICE_DIC, FvPER_ALK, FvPER_DIC,\n",
      "  H2CO3, HBLT, HCO3, HDIFB_CFC11, HDIFB_CFC12, HDIFB_IAGE, HDIFB_SALT, HDIFB_TEMP,\n",
      "  HDIFE_CFC11, HDIFE_CFC12, HDIFE_IAGE, HDIFE_SALT, HDIFE_TEMP, HDIFN_CFC11, HDIFN_CFC12,\n",
      "  HDIFN_IAGE, HDIFN_SALT, HDIFN_TEMP, HDIFS, HDIFT, HLS_SUBM, HMXL, HOR_DIFF, IAGE,\n",
      "  IAGE_RESET_TEND, IFRAC, INT_DEPTH, IOFF_F, IRON_FLUX, J_DIC, Jint_100m_ALK, Jint_100m_DIC,\n",
      "  Jint_100m_DOC, Jint_100m_Fe, Jint_100m_NH4, Jint_100m_NO3, Jint_100m_O2, Jint_100m_PO4,\n",
      "  Jint_100m_SiO3, KAPPA_ISOP, KAPPA_THIC, KPP_SRC_CFC11, KPP_SRC_CFC12, KPP_SRC_SALT,\n",
      "  KPP_SRC_TEMP, KVMIX, KVMIX_M, LWDN_F, LWUP_F, MELTH_F, MELT_F, MOC, NH4, NHy_FLUX,\n",
      "  NITRIF, NO3, NOx_FLUX, N_HEAT, N_SALT, O2, O2SAT, O2_CONSUMPTION, O2_PRODUCTION,\n",
      "  O2_ZMIN, O2_ZMIN_DEPTH, PAR_avg, PD, PH, PH_ALT_CO2, PO4, POC_FLUX_IN, POC_PROD,\n",
      "  PREC_F, PV, P_iron_FLUX_IN, P_iron_PROD, Q, QFLUX, QSW_3D, QSW_HBL, QSW_HTP, RESID_S,\n",
      "  RESID_T, RHO, RHO_VINT, ROFF_F, SALT, SALT_F, SCHMIDT_CO2, SCHMIDT_O2, SENH_F, SFWF,\n",
      "  SFWF_WRST, SHF, SHF_QSW, SNOW_F, SSH, SSH2, SST, STF_CFC11, STF_CFC12, STF_O2, SU,\n",
      "  SV, SiO2_FLUX_IN, SiO2_PROD, SiO3, TAUX, TAUX2, TAUY, TAUY2, TBLT, TEMP, TFW_S,\n",
      "  TFW_T, TLT, TMXL, TPOWER, UES, UET, UE_CFC11, UE_CFC12, UE_IAGE, UISOP, USUBM, UVEL,\n",
      "  UVEL2, VDC_S, VDC_T, VISOP, VNS, VNS_ISOP, VNS_SUBM, VNT, VNT_ISOP, VNT_SUBM, VN_CFC11,\n",
      "  VN_CFC12, VN_IAGE, VSUBM, VVC, VVEL, VVEL2, WISOP, WSUBM, WTS, WTT, WT_CFC11, WT_CFC12,\n",
      "  WT_IAGE, WVEL, WVEL2, XBLT, XMXL, bSi_form, co3_sat_arag, co3_sat_calc, dTEMP_NEG_2D,\n",
      "  dTEMP_POS_2D, diatC, diatChl, diatFe, diatSi, diat_Fe_lim, diat_N_lim, diat_PO4_lim,\n",
      "  diat_SiO3_lim, diat_agg, diat_light_lim, diat_loss, diazC, diazChl, diazFe, diaz_Fe_lim,\n",
      "  diaz_Nfix, diaz_P_lim, diaz_light_lim, diaz_loss, graze_diat, graze_diaz, graze_sp,\n",
      "  pCO2SURF, pH_3D, photoC_NO3_diat, photoC_NO3_diat_zint, photoC_NO3_diaz, photoC_NO3_diaz_zint,\n",
      "  photoC_NO3_sp, photoC_NO3_sp_zint, photoC_diat, photoC_diaz, photoC_sp, spC, spCaCO3,\n",
      "  spChl, spFe, sp_Fe_lim, sp_N_lim, sp_PO4_lim, sp_agg, sp_light_lim, sp_loss, tend_zint_100m_ALK,\n",
      "  tend_zint_100m_DIC, tend_zint_100m_DIC_ALT_CO2, tend_zint_100m_DOC, tend_zint_100m_Fe,\n",
      "  tend_zint_100m_NH4, tend_zint_100m_NO3, tend_zint_100m_O2, tend_zint_100m_PO4, tend_zint_100m_SiO3,\n",
      "  zooC, zoo_loss, zsatarag, zsatcalc]\n",
      "\n"
     ]
    }
   ],
   "source": [
    "stream_def = {'mon': 'pop.h', 'day': ['pop.h.nday1', 'pop.h.ecosys.nday1']}\n",
    "\n",
    "all_variables = {'mon': col.search(component='ocn', stream=stream_def['mon']).results.variable.unique().tolist(), \n",
    "             'day': col.search(component='ocn', stream=stream_def['day']).results.variable.unique().tolist()}\n",
    "print(yaml.dump(all_variables))"
   ]
  },
  {
   "cell_type": "markdown",
   "metadata": {},
   "source": [
    "This analysis will focus on a subset of those variables."
   ]
  },
  {
   "cell_type": "code",
   "execution_count": 19,
   "metadata": {},
   "outputs": [
    {
     "name": "stdout",
     "output_type": "stream",
     "text": [
      "day: [ECOSYS_IFRAC_2, HMXL_2, SST, XMXL_2, diatC_zint_100m, diatChl_SURF, photoC_diat_zint,\n",
      "  photoC_sp_zint, spC_zint_100m, spChl_SURF, zooC_zint_100m]\n",
      "mon: [ECOSYS_IFRAC, Fe, HMXL, HOR_DIFF, Jint_100m_DIC, NH4, NO3, NOx_FLUX, PAR_avg,\n",
      "  PD, PO4, POC_FLUX_IN, POC_PROD, SALT, SiO3, TBLT, TEMP, XMXL, diatC, diatChl, diat_Fe_lim,\n",
      "  diat_N_lim, diat_PO4_lim, diat_SiO3_lim, diat_agg, diat_light_lim, diat_loss, graze_diat,\n",
      "  graze_diaz, graze_sp, photoC_NO3_diat, photoC_NO3_diat_zint, photoC_NO3_sp, photoC_NO3_sp_zint,\n",
      "  photoC_diat, photoC_sp, spC, spChl, sp_Fe_lim, sp_N_lim, sp_PO4_lim, sp_agg, sp_light_lim,\n",
      "  sp_loss, tend_zint_100m_NO3, zooC, zoo_loss]\n"
     ]
    }
   ],
   "source": [
    "variables = yaml.load('''\n",
    "day: [ECOSYS_IFRAC_2, HMXL_2, SST, XMXL_2, \n",
    "      diatC_zint_100m, diatChl_SURF, photoC_diat_zint,\n",
    "      photoC_sp_zint, spC_zint_100m, spChl_SURF, zooC_zint_100m]\n",
    "mon: [ECOSYS_IFRAC, Fe, HMXL, Jint_100m_DIC, NH4, NO3, NOx_FLUX, PAR_avg, PD, PO4, \n",
    "      POC_FLUX_IN, POC_PROD, SALT, SiO3, TBLT, TEMP, XMXL, diatC, diatChl, \n",
    "      diat_Fe_lim, diat_N_lim, diat_PO4_lim, diat_SiO3_lim, diat_agg, diat_light_lim, diat_loss, \n",
    "      graze_diat, graze_diaz, graze_sp, photoC_NO3_diat, photoC_NO3_diat_zint, photoC_NO3_sp, \n",
    "      photoC_NO3_sp_zint, photoC_diat, photoC_sp, spC, spChl, sp_Fe_lim, sp_N_lim, sp_PO4_lim, \n",
    "      sp_agg, sp_light_lim, sp_loss, tend_zint_100m_NO3, zooC, zoo_loss]\n",
    "''')\n",
    "with open('variables.yml', 'w') as fid:\n",
    "    yaml.dump(variables, fid)\n",
    "    \n",
    "variable_list = []\n",
    "for k, v in variables.items():\n",
    "    variable_list.extend(v)\n",
    "    \n",
    "!cat variables.yml"
   ]
  },
  {
   "cell_type": "markdown",
   "metadata": {},
   "source": [
    "### query catalog for full-subset"
   ]
  },
  {
   "cell_type": "code",
   "execution_count": 20,
   "metadata": {},
   "outputs": [
    {
     "name": "stdout",
     "output_type": "stream",
     "text": [
      "<class 'pandas.core.frame.DataFrame'>\n",
      "Int64Index: 7134 entries, 226956 to 1379\n",
      "Data columns (total 18 columns):\n",
      "resource            7134 non-null object\n",
      "resource_type       7134 non-null object\n",
      "direct_access       7134 non-null bool\n",
      "experiment          7134 non-null object\n",
      "case                7134 non-null object\n",
      "component           7134 non-null object\n",
      "stream              7134 non-null object\n",
      "variable            7134 non-null object\n",
      "date_range          7134 non-null object\n",
      "ensemble            7134 non-null int64\n",
      "files               7134 non-null object\n",
      "files_basename      7134 non-null object\n",
      "files_dirname       7134 non-null object\n",
      "ctrl_branch_year    0 non-null float64\n",
      "year_offset         0 non-null float64\n",
      "sequence_order      7134 non-null int64\n",
      "has_ocean_bgc       7134 non-null bool\n",
      "grid                7134 non-null object\n",
      "dtypes: bool(2), float64(2), int64(2), object(12)\n",
      "memory usage: 961.4+ KB\n"
     ]
    }
   ],
   "source": [
    "cat = col.search(experiment=experiments,\n",
    "                 ensemble=ensembles, \n",
    "                 variable=variable_list)\n",
    "cat.results.info()"
   ]
  },
  {
   "cell_type": "markdown",
   "metadata": {},
   "source": [
    "### ensure all data is accessible on spinning-disk"
   ]
  },
  {
   "cell_type": "markdown",
   "metadata": {},
   "source": [
    "The catalog includes data from multiple locations; what are those locations and are they accessible via direct access?"
   ]
  },
  {
   "cell_type": "code",
   "execution_count": 21,
   "metadata": {},
   "outputs": [
    {
     "data": {
      "text/plain": [
       "{'HPSS:hsi:/CCSM/csm/CESM-CAM5-BGC-LE': False,\n",
       " 'GLADE:posix:/glade/collections/cdg/data/cesmLE/CESM-CAM5-BGC-LE': True,\n",
       " 'CACHE:posix:/glade/scratch/mclong/intake-cesm-data': True}"
      ]
     },
     "execution_count": 21,
     "metadata": {},
     "output_type": "execute_result"
    }
   ],
   "source": [
    "df = cat.results\n",
    "resource_access = {}\n",
    "for res in df.resource.unique():\n",
    "    resource_access[res] = df.direct_access.loc[df.resource == res].unique()[0]\n",
    "resource_access"
   ]
  },
  {
   "cell_type": "markdown",
   "metadata": {},
   "source": [
    "Determine which files need to be transferred from tape."
   ]
  },
  {
   "cell_type": "code",
   "execution_count": 22,
   "metadata": {},
   "outputs": [
    {
     "name": "stdout",
     "output_type": "stream",
     "text": [
      "<class 'pandas.core.frame.DataFrame'>\n",
      "RangeIndex: 3368 entries, 0 to 3367\n",
      "Data columns (total 18 columns):\n",
      "resource            3368 non-null object\n",
      "resource_type       3368 non-null object\n",
      "direct_access       3368 non-null object\n",
      "experiment          3368 non-null object\n",
      "case                3368 non-null object\n",
      "component           3368 non-null object\n",
      "stream              3368 non-null object\n",
      "variable            3368 non-null object\n",
      "date_range          3368 non-null object\n",
      "ensemble            3368 non-null object\n",
      "files               3368 non-null object\n",
      "files_basename      3368 non-null object\n",
      "files_dirname       3368 non-null object\n",
      "ctrl_branch_year    0 non-null object\n",
      "year_offset         0 non-null object\n",
      "sequence_order      3368 non-null object\n",
      "has_ocean_bgc       3368 non-null object\n",
      "grid                3368 non-null object\n",
      "dtypes: object(18)\n",
      "memory usage: 473.7+ KB\n"
     ]
    }
   ],
   "source": [
    "df_transfer = pd.DataFrame(columns=df.columns)\n",
    "for file in df.files_basename.unique():\n",
    "    df_file_subset = df.loc[df.files_basename == file]\n",
    "    if not any(df_file_subset.direct_access):\n",
    "        df_transfer = pd.concat((df_transfer, df_file_subset), ignore_index=True) \n",
    "df_transfer.info()"
   ]
  },
  {
   "cell_type": "code",
   "execution_count": 23,
   "metadata": {},
   "outputs": [
    {
     "name": "stdout",
     "output_type": "stream",
     "text": [
      "284it [30:52, 191.53s/it]"
     ]
    },
    {
     "ename": "KeyboardInterrupt",
     "evalue": "",
     "output_type": "error",
     "traceback": [
      "\u001b[0;31m---------------------------------------------------------------------------\u001b[0m",
      "\u001b[0;31mKeyboardInterrupt\u001b[0m                         Traceback (most recent call last)",
      "\u001b[0;32m<ipython-input-23-d8132b1aa87b>\u001b[0m in \u001b[0;36m<module>\u001b[0;34m\u001b[0m\n\u001b[1;32m      2\u001b[0m     \u001b[0mfile_remote\u001b[0m \u001b[0;34m=\u001b[0m \u001b[0mrow\u001b[0m\u001b[0;34m.\u001b[0m\u001b[0mfiles\u001b[0m\u001b[0;34m\u001b[0m\u001b[0;34m\u001b[0m\u001b[0m\n\u001b[1;32m      3\u001b[0m     \u001b[0mfile_local\u001b[0m \u001b[0;34m=\u001b[0m \u001b[0mos\u001b[0m\u001b[0;34m.\u001b[0m\u001b[0mpath\u001b[0m\u001b[0;34m.\u001b[0m\u001b[0mjoin\u001b[0m\u001b[0;34m(\u001b[0m\u001b[0mcache_directory\u001b[0m\u001b[0;34m,\u001b[0m \u001b[0mrow\u001b[0m\u001b[0;34m.\u001b[0m\u001b[0mfiles_basename\u001b[0m\u001b[0;34m)\u001b[0m\u001b[0;34m\u001b[0m\u001b[0;34m\u001b[0m\u001b[0m\n\u001b[0;32m----> 4\u001b[0;31m     \u001b[0mcheck_call\u001b[0m\u001b[0;34m(\u001b[0m\u001b[0;34m[\u001b[0m\u001b[0;34m'hsi'\u001b[0m\u001b[0;34m,\u001b[0m\u001b[0;34mf\"cget {file_local} : {file_remote}\"\u001b[0m\u001b[0;34m]\u001b[0m\u001b[0;34m)\u001b[0m\u001b[0;34m\u001b[0m\u001b[0;34m\u001b[0m\u001b[0m\n\u001b[0m",
      "\u001b[0;32m/glade/work/mclong/miniconda3/envs/arctic_project/lib/python3.6/subprocess.py\u001b[0m in \u001b[0;36mcheck_call\u001b[0;34m(*popenargs, **kwargs)\u001b[0m\n\u001b[1;32m    284\u001b[0m     \u001b[0mcheck_call\u001b[0m\u001b[0;34m(\u001b[0m\u001b[0;34m[\u001b[0m\u001b[0;34m\"ls\"\u001b[0m\u001b[0;34m,\u001b[0m \u001b[0;34m\"-l\"\u001b[0m\u001b[0;34m]\u001b[0m\u001b[0;34m)\u001b[0m\u001b[0;34m\u001b[0m\u001b[0;34m\u001b[0m\u001b[0m\n\u001b[1;32m    285\u001b[0m     \"\"\"\n\u001b[0;32m--> 286\u001b[0;31m     \u001b[0mretcode\u001b[0m \u001b[0;34m=\u001b[0m \u001b[0mcall\u001b[0m\u001b[0;34m(\u001b[0m\u001b[0;34m*\u001b[0m\u001b[0mpopenargs\u001b[0m\u001b[0;34m,\u001b[0m \u001b[0;34m**\u001b[0m\u001b[0mkwargs\u001b[0m\u001b[0;34m)\u001b[0m\u001b[0;34m\u001b[0m\u001b[0;34m\u001b[0m\u001b[0m\n\u001b[0m\u001b[1;32m    287\u001b[0m     \u001b[0;32mif\u001b[0m \u001b[0mretcode\u001b[0m\u001b[0;34m:\u001b[0m\u001b[0;34m\u001b[0m\u001b[0;34m\u001b[0m\u001b[0m\n\u001b[1;32m    288\u001b[0m         \u001b[0mcmd\u001b[0m \u001b[0;34m=\u001b[0m \u001b[0mkwargs\u001b[0m\u001b[0;34m.\u001b[0m\u001b[0mget\u001b[0m\u001b[0;34m(\u001b[0m\u001b[0;34m\"args\"\u001b[0m\u001b[0;34m)\u001b[0m\u001b[0;34m\u001b[0m\u001b[0;34m\u001b[0m\u001b[0m\n",
      "\u001b[0;32m/glade/work/mclong/miniconda3/envs/arctic_project/lib/python3.6/subprocess.py\u001b[0m in \u001b[0;36mcall\u001b[0;34m(timeout, *popenargs, **kwargs)\u001b[0m\n\u001b[1;32m    267\u001b[0m     \u001b[0;32mwith\u001b[0m \u001b[0mPopen\u001b[0m\u001b[0;34m(\u001b[0m\u001b[0;34m*\u001b[0m\u001b[0mpopenargs\u001b[0m\u001b[0;34m,\u001b[0m \u001b[0;34m**\u001b[0m\u001b[0mkwargs\u001b[0m\u001b[0;34m)\u001b[0m \u001b[0;32mas\u001b[0m \u001b[0mp\u001b[0m\u001b[0;34m:\u001b[0m\u001b[0;34m\u001b[0m\u001b[0;34m\u001b[0m\u001b[0m\n\u001b[1;32m    268\u001b[0m         \u001b[0;32mtry\u001b[0m\u001b[0;34m:\u001b[0m\u001b[0;34m\u001b[0m\u001b[0;34m\u001b[0m\u001b[0m\n\u001b[0;32m--> 269\u001b[0;31m             \u001b[0;32mreturn\u001b[0m \u001b[0mp\u001b[0m\u001b[0;34m.\u001b[0m\u001b[0mwait\u001b[0m\u001b[0;34m(\u001b[0m\u001b[0mtimeout\u001b[0m\u001b[0;34m=\u001b[0m\u001b[0mtimeout\u001b[0m\u001b[0;34m)\u001b[0m\u001b[0;34m\u001b[0m\u001b[0;34m\u001b[0m\u001b[0m\n\u001b[0m\u001b[1;32m    270\u001b[0m         \u001b[0;32mexcept\u001b[0m\u001b[0;34m:\u001b[0m\u001b[0;34m\u001b[0m\u001b[0;34m\u001b[0m\u001b[0m\n\u001b[1;32m    271\u001b[0m             \u001b[0mp\u001b[0m\u001b[0;34m.\u001b[0m\u001b[0mkill\u001b[0m\u001b[0;34m(\u001b[0m\u001b[0;34m)\u001b[0m\u001b[0;34m\u001b[0m\u001b[0;34m\u001b[0m\u001b[0m\n",
      "\u001b[0;32m/glade/work/mclong/miniconda3/envs/arctic_project/lib/python3.6/subprocess.py\u001b[0m in \u001b[0;36mwait\u001b[0;34m(self, timeout, endtime)\u001b[0m\n\u001b[1;32m   1455\u001b[0m                         \u001b[0;32mif\u001b[0m \u001b[0mself\u001b[0m\u001b[0;34m.\u001b[0m\u001b[0mreturncode\u001b[0m \u001b[0;32mis\u001b[0m \u001b[0;32mnot\u001b[0m \u001b[0;32mNone\u001b[0m\u001b[0;34m:\u001b[0m\u001b[0;34m\u001b[0m\u001b[0;34m\u001b[0m\u001b[0m\n\u001b[1;32m   1456\u001b[0m                             \u001b[0;32mbreak\u001b[0m  \u001b[0;31m# Another thread waited.\u001b[0m\u001b[0;34m\u001b[0m\u001b[0;34m\u001b[0m\u001b[0m\n\u001b[0;32m-> 1457\u001b[0;31m                         \u001b[0;34m(\u001b[0m\u001b[0mpid\u001b[0m\u001b[0;34m,\u001b[0m \u001b[0msts\u001b[0m\u001b[0;34m)\u001b[0m \u001b[0;34m=\u001b[0m \u001b[0mself\u001b[0m\u001b[0;34m.\u001b[0m\u001b[0m_try_wait\u001b[0m\u001b[0;34m(\u001b[0m\u001b[0;36m0\u001b[0m\u001b[0;34m)\u001b[0m\u001b[0;34m\u001b[0m\u001b[0;34m\u001b[0m\u001b[0m\n\u001b[0m\u001b[1;32m   1458\u001b[0m                         \u001b[0;31m# Check the pid and loop as waitpid has been known to\u001b[0m\u001b[0;34m\u001b[0m\u001b[0;34m\u001b[0m\u001b[0;34m\u001b[0m\u001b[0m\n\u001b[1;32m   1459\u001b[0m                         \u001b[0;31m# return 0 even without WNOHANG in odd situations.\u001b[0m\u001b[0;34m\u001b[0m\u001b[0;34m\u001b[0m\u001b[0;34m\u001b[0m\u001b[0m\n",
      "\u001b[0;32m/glade/work/mclong/miniconda3/envs/arctic_project/lib/python3.6/subprocess.py\u001b[0m in \u001b[0;36m_try_wait\u001b[0;34m(self, wait_flags)\u001b[0m\n\u001b[1;32m   1402\u001b[0m             \u001b[0;34m\"\"\"All callers to this function MUST hold self._waitpid_lock.\"\"\"\u001b[0m\u001b[0;34m\u001b[0m\u001b[0;34m\u001b[0m\u001b[0m\n\u001b[1;32m   1403\u001b[0m             \u001b[0;32mtry\u001b[0m\u001b[0;34m:\u001b[0m\u001b[0;34m\u001b[0m\u001b[0;34m\u001b[0m\u001b[0m\n\u001b[0;32m-> 1404\u001b[0;31m                 \u001b[0;34m(\u001b[0m\u001b[0mpid\u001b[0m\u001b[0;34m,\u001b[0m \u001b[0msts\u001b[0m\u001b[0;34m)\u001b[0m \u001b[0;34m=\u001b[0m \u001b[0mos\u001b[0m\u001b[0;34m.\u001b[0m\u001b[0mwaitpid\u001b[0m\u001b[0;34m(\u001b[0m\u001b[0mself\u001b[0m\u001b[0;34m.\u001b[0m\u001b[0mpid\u001b[0m\u001b[0;34m,\u001b[0m \u001b[0mwait_flags\u001b[0m\u001b[0;34m)\u001b[0m\u001b[0;34m\u001b[0m\u001b[0;34m\u001b[0m\u001b[0m\n\u001b[0m\u001b[1;32m   1405\u001b[0m             \u001b[0;32mexcept\u001b[0m \u001b[0mChildProcessError\u001b[0m\u001b[0;34m:\u001b[0m\u001b[0;34m\u001b[0m\u001b[0;34m\u001b[0m\u001b[0m\n\u001b[1;32m   1406\u001b[0m                 \u001b[0;31m# This happens if SIGCLD is set to be ignored or waiting\u001b[0m\u001b[0;34m\u001b[0m\u001b[0;34m\u001b[0m\u001b[0;34m\u001b[0m\u001b[0m\n",
      "\u001b[0;31mKeyboardInterrupt\u001b[0m: "
     ]
    }
   ],
   "source": [
    "for idx, row in tqdm(df_transfer.iterrows(), file=sys.stdout):\n",
    "    file_remote = row.files\n",
    "    file_local = os.path.join(cache_directory, row.files_basename)\n",
    "    check_call(['hsi',f\"cget {file_local} : {file_remote}\"])"
   ]
  },
  {
   "cell_type": "code",
   "execution_count": null,
   "metadata": {},
   "outputs": [],
   "source": [
    "col = intake_cesm.CESMCollections(collection_input_file=collection_input_file,\n",
    "                                  collection_type_def_file=collection_type_def_file,\n",
    "                                  overwrite_existing=True, \n",
    "                                  include_cache_dir=True)\n",
    "col.df.info()"
   ]
  },
  {
   "cell_type": "code",
   "execution_count": null,
   "metadata": {},
   "outputs": [],
   "source": [
    "%load_ext watermark"
   ]
  },
  {
   "cell_type": "code",
   "execution_count": null,
   "metadata": {},
   "outputs": [],
   "source": [
    "%watermark --iversion -g -h -m -v -u -d"
   ]
  },
  {
   "cell_type": "code",
   "execution_count": null,
   "metadata": {},
   "outputs": [],
   "source": []
  }
 ],
 "metadata": {
  "kernelspec": {
   "display_name": "Python 3",
   "language": "python",
   "name": "python3"
  },
  "language_info": {
   "codemirror_mode": {
    "name": "ipython",
    "version": 3
   },
   "file_extension": ".py",
   "mimetype": "text/x-python",
   "name": "python",
   "nbconvert_exporter": "python",
   "pygments_lexer": "ipython3",
   "version": "3.6.7"
  }
 },
 "nbformat": 4,
 "nbformat_minor": 2
}
